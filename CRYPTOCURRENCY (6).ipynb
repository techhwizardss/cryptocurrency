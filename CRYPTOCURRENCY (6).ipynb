{
 "cells": [
  {
   "cell_type": "markdown",
   "metadata": {},
   "source": [
    "# CRYPTOCURRENCIES "
   ]
  },
  {
   "cell_type": "markdown",
   "metadata": {},
   "source": [
    "### DETAILS"
   ]
  },
  {
   "cell_type": "markdown",
   "metadata": {},
   "source": [
    "The project contains a brief study on different cryptocurrencies. The dataset is taken from Kaggle and it contains more than 9 lakh rows. To make the dataset more reasonable and easier to visualize I have taken only top 10 cryptocurrencies by market volume which includes Bitcoin, XRP, Ethereum, Stellar,Bitcoin Cash,EOS,Litecoin,Tether,Bitcoin SV and Cardano. New dataset contains around 11000 rows and columns are Slug, Symbol, Name, Date, Ranknow, open, high, low, close, volume, market, close-ratio and spread. Data is updated till 21 May 2018. Close ratio is the daily close rate, min-maxed with the high and low values for the day. Spread is the $USD difference between the high and low values for the day. The dataset is taken from www.kaggle.com and is uploaded by jvent"
   ]
  },
  {
   "cell_type": "markdown",
   "metadata": {},
   "source": [
    "Importing libraries that are required for reading and visualizing data"
   ]
  },
  {
   "cell_type": "code",
   "execution_count": 1,
   "metadata": {},
   "outputs": [],
   "source": [
    "import pandas as pd\n",
    "import numpy as np\n",
    "import seaborn as sns\n",
    "import matplotlib.pyplot as plt\n",
    "import array"
   ]
  },
  {
   "cell_type": "markdown",
   "metadata": {},
   "source": [
    "Reading the dataset with the help of pandas"
   ]
  },
  {
   "cell_type": "code",
   "execution_count": 2,
   "metadata": {},
   "outputs": [],
   "source": [
    "import warnings\n",
    "warnings.filterwarnings(\"ignore\")"
   ]
  },
  {
   "cell_type": "markdown",
   "metadata": {},
   "source": [
    "Warnings has been imported to hide all the future warnings of the pandas and the regression and classifier techniques"
   ]
  },
  {
   "cell_type": "code",
   "execution_count": 3,
   "metadata": {},
   "outputs": [],
   "source": [
    "dataset=pd.read_csv(\"crypto-markets.csv\")"
   ]
  },
  {
   "cell_type": "code",
   "execution_count": 4,
   "metadata": {},
   "outputs": [
    {
     "data": {
      "text/html": [
       "<div>\n",
       "<style scoped>\n",
       "    .dataframe tbody tr th:only-of-type {\n",
       "        vertical-align: middle;\n",
       "    }\n",
       "\n",
       "    .dataframe tbody tr th {\n",
       "        vertical-align: top;\n",
       "    }\n",
       "\n",
       "    .dataframe thead th {\n",
       "        text-align: right;\n",
       "    }\n",
       "</style>\n",
       "<table border=\"1\" class=\"dataframe\">\n",
       "  <thead>\n",
       "    <tr style=\"text-align: right;\">\n",
       "      <th></th>\n",
       "      <th>slug</th>\n",
       "      <th>symbol</th>\n",
       "      <th>name</th>\n",
       "      <th>date</th>\n",
       "      <th>ranknow</th>\n",
       "      <th>open</th>\n",
       "      <th>high</th>\n",
       "      <th>low</th>\n",
       "      <th>close</th>\n",
       "      <th>volume</th>\n",
       "      <th>market</th>\n",
       "      <th>close_ratio</th>\n",
       "      <th>spread</th>\n",
       "    </tr>\n",
       "  </thead>\n",
       "  <tbody>\n",
       "    <tr>\n",
       "      <th>0</th>\n",
       "      <td>bitcoin</td>\n",
       "      <td>BTC</td>\n",
       "      <td>Bitcoin</td>\n",
       "      <td>2013-04-28</td>\n",
       "      <td>1</td>\n",
       "      <td>135.30</td>\n",
       "      <td>135.98</td>\n",
       "      <td>132.10</td>\n",
       "      <td>134.21</td>\n",
       "      <td>0.0</td>\n",
       "      <td>1.488567e+09</td>\n",
       "      <td>0.5438</td>\n",
       "      <td>3.88</td>\n",
       "    </tr>\n",
       "    <tr>\n",
       "      <th>1</th>\n",
       "      <td>bitcoin</td>\n",
       "      <td>BTC</td>\n",
       "      <td>Bitcoin</td>\n",
       "      <td>2013-04-29</td>\n",
       "      <td>1</td>\n",
       "      <td>134.44</td>\n",
       "      <td>147.49</td>\n",
       "      <td>134.00</td>\n",
       "      <td>144.54</td>\n",
       "      <td>0.0</td>\n",
       "      <td>1.603769e+09</td>\n",
       "      <td>0.7813</td>\n",
       "      <td>13.49</td>\n",
       "    </tr>\n",
       "    <tr>\n",
       "      <th>2</th>\n",
       "      <td>bitcoin</td>\n",
       "      <td>BTC</td>\n",
       "      <td>Bitcoin</td>\n",
       "      <td>2013-04-30</td>\n",
       "      <td>1</td>\n",
       "      <td>144.00</td>\n",
       "      <td>146.93</td>\n",
       "      <td>134.05</td>\n",
       "      <td>139.00</td>\n",
       "      <td>0.0</td>\n",
       "      <td>1.542813e+09</td>\n",
       "      <td>0.3843</td>\n",
       "      <td>12.88</td>\n",
       "    </tr>\n",
       "    <tr>\n",
       "      <th>3</th>\n",
       "      <td>bitcoin</td>\n",
       "      <td>BTC</td>\n",
       "      <td>Bitcoin</td>\n",
       "      <td>2013-05-01</td>\n",
       "      <td>1</td>\n",
       "      <td>139.00</td>\n",
       "      <td>139.89</td>\n",
       "      <td>107.72</td>\n",
       "      <td>116.99</td>\n",
       "      <td>0.0</td>\n",
       "      <td>1.298955e+09</td>\n",
       "      <td>0.2882</td>\n",
       "      <td>32.17</td>\n",
       "    </tr>\n",
       "    <tr>\n",
       "      <th>4</th>\n",
       "      <td>bitcoin</td>\n",
       "      <td>BTC</td>\n",
       "      <td>Bitcoin</td>\n",
       "      <td>2013-05-02</td>\n",
       "      <td>1</td>\n",
       "      <td>116.38</td>\n",
       "      <td>125.60</td>\n",
       "      <td>92.28</td>\n",
       "      <td>105.21</td>\n",
       "      <td>0.0</td>\n",
       "      <td>1.168517e+09</td>\n",
       "      <td>0.3881</td>\n",
       "      <td>33.32</td>\n",
       "    </tr>\n",
       "  </tbody>\n",
       "</table>\n",
       "</div>"
      ],
      "text/plain": [
       "      slug symbol     name        date  ranknow    open    high     low  \\\n",
       "0  bitcoin    BTC  Bitcoin  2013-04-28        1  135.30  135.98  132.10   \n",
       "1  bitcoin    BTC  Bitcoin  2013-04-29        1  134.44  147.49  134.00   \n",
       "2  bitcoin    BTC  Bitcoin  2013-04-30        1  144.00  146.93  134.05   \n",
       "3  bitcoin    BTC  Bitcoin  2013-05-01        1  139.00  139.89  107.72   \n",
       "4  bitcoin    BTC  Bitcoin  2013-05-02        1  116.38  125.60   92.28   \n",
       "\n",
       "    close  volume        market  close_ratio  spread  \n",
       "0  134.21     0.0  1.488567e+09       0.5438    3.88  \n",
       "1  144.54     0.0  1.603769e+09       0.7813   13.49  \n",
       "2  139.00     0.0  1.542813e+09       0.3843   12.88  \n",
       "3  116.99     0.0  1.298955e+09       0.2882   32.17  \n",
       "4  105.21     0.0  1.168517e+09       0.3881   33.32  "
      ]
     },
     "execution_count": 4,
     "metadata": {},
     "output_type": "execute_result"
    }
   ],
   "source": [
    "dataset.head()"
   ]
  },
  {
   "cell_type": "markdown",
   "metadata": {},
   "source": [
    "First five rows of our dataset. It has three categorical columns i.e Slug, symbol and name and remaining features are numeric."
   ]
  },
  {
   "cell_type": "code",
   "execution_count": 5,
   "metadata": {},
   "outputs": [
    {
     "name": "stdout",
     "output_type": "stream",
     "text": [
      "<class 'pandas.core.frame.DataFrame'>\n",
      "RangeIndex: 942297 entries, 0 to 942296\n",
      "Data columns (total 13 columns):\n",
      "slug           942297 non-null object\n",
      "symbol         942297 non-null object\n",
      "name           942297 non-null object\n",
      "date           942297 non-null object\n",
      "ranknow        942297 non-null int64\n",
      "open           942297 non-null float64\n",
      "high           942297 non-null float64\n",
      "low            942297 non-null float64\n",
      "close          942297 non-null float64\n",
      "volume         942297 non-null float64\n",
      "market         942297 non-null float64\n",
      "close_ratio    942297 non-null float64\n",
      "spread         942297 non-null float64\n",
      "dtypes: float64(8), int64(1), object(4)\n",
      "memory usage: 93.5+ MB\n"
     ]
    }
   ],
   "source": [
    "dataset.info()"
   ]
  },
  {
   "cell_type": "markdown",
   "metadata": {},
   "source": [
    "The dataset contains many cryptocurrencies and have more than 9 lakh rows. The dataset contains zero null values. Hence it is cleaned and ready for visualizing."
   ]
  },
  {
   "cell_type": "code",
   "execution_count": 6,
   "metadata": {},
   "outputs": [
    {
     "data": {
      "text/plain": [
       "slug           0\n",
       "symbol         0\n",
       "name           0\n",
       "date           0\n",
       "ranknow        0\n",
       "open           0\n",
       "high           0\n",
       "low            0\n",
       "close          0\n",
       "volume         0\n",
       "market         0\n",
       "close_ratio    0\n",
       "spread         0\n",
       "dtype: int64"
      ]
     },
     "execution_count": 6,
     "metadata": {},
     "output_type": "execute_result"
    }
   ],
   "source": [
    "dataset.isnull().sum()"
   ]
  },
  {
   "cell_type": "code",
   "execution_count": 7,
   "metadata": {},
   "outputs": [
    {
     "data": {
      "text/html": [
       "<div>\n",
       "<style scoped>\n",
       "    .dataframe tbody tr th:only-of-type {\n",
       "        vertical-align: middle;\n",
       "    }\n",
       "\n",
       "    .dataframe tbody tr th {\n",
       "        vertical-align: top;\n",
       "    }\n",
       "\n",
       "    .dataframe thead th {\n",
       "        text-align: right;\n",
       "    }\n",
       "</style>\n",
       "<table border=\"1\" class=\"dataframe\">\n",
       "  <thead>\n",
       "    <tr style=\"text-align: right;\">\n",
       "      <th></th>\n",
       "      <th>ranknow</th>\n",
       "      <th>open</th>\n",
       "      <th>high</th>\n",
       "      <th>low</th>\n",
       "      <th>close</th>\n",
       "      <th>volume</th>\n",
       "      <th>market</th>\n",
       "      <th>close_ratio</th>\n",
       "      <th>spread</th>\n",
       "    </tr>\n",
       "  </thead>\n",
       "  <tbody>\n",
       "    <tr>\n",
       "      <th>count</th>\n",
       "      <td>942297.000000</td>\n",
       "      <td>9.422970e+05</td>\n",
       "      <td>9.422970e+05</td>\n",
       "      <td>9.422970e+05</td>\n",
       "      <td>9.422970e+05</td>\n",
       "      <td>9.422970e+05</td>\n",
       "      <td>9.422970e+05</td>\n",
       "      <td>942297.000000</td>\n",
       "      <td>9.422970e+05</td>\n",
       "    </tr>\n",
       "    <tr>\n",
       "      <th>mean</th>\n",
       "      <td>1000.170608</td>\n",
       "      <td>3.483522e+02</td>\n",
       "      <td>4.085930e+02</td>\n",
       "      <td>2.962526e+02</td>\n",
       "      <td>3.461018e+02</td>\n",
       "      <td>8.720383e+06</td>\n",
       "      <td>1.725060e+08</td>\n",
       "      <td>0.459499</td>\n",
       "      <td>1.123400e+02</td>\n",
       "    </tr>\n",
       "    <tr>\n",
       "      <th>std</th>\n",
       "      <td>587.575283</td>\n",
       "      <td>1.318436e+04</td>\n",
       "      <td>1.616386e+04</td>\n",
       "      <td>1.092931e+04</td>\n",
       "      <td>1.309822e+04</td>\n",
       "      <td>1.839802e+08</td>\n",
       "      <td>3.575590e+09</td>\n",
       "      <td>0.326160</td>\n",
       "      <td>6.783713e+03</td>\n",
       "    </tr>\n",
       "    <tr>\n",
       "      <th>min</th>\n",
       "      <td>1.000000</td>\n",
       "      <td>2.500000e-09</td>\n",
       "      <td>3.200000e-09</td>\n",
       "      <td>2.500000e-10</td>\n",
       "      <td>2.000000e-10</td>\n",
       "      <td>0.000000e+00</td>\n",
       "      <td>0.000000e+00</td>\n",
       "      <td>-1.000000</td>\n",
       "      <td>0.000000e+00</td>\n",
       "    </tr>\n",
       "    <tr>\n",
       "      <th>25%</th>\n",
       "      <td>465.000000</td>\n",
       "      <td>2.321000e-03</td>\n",
       "      <td>2.628000e-03</td>\n",
       "      <td>2.044000e-03</td>\n",
       "      <td>2.314000e-03</td>\n",
       "      <td>1.750000e+02</td>\n",
       "      <td>2.958100e+04</td>\n",
       "      <td>0.162900</td>\n",
       "      <td>0.000000e+00</td>\n",
       "    </tr>\n",
       "    <tr>\n",
       "      <th>50%</th>\n",
       "      <td>1072.000000</td>\n",
       "      <td>2.398300e-02</td>\n",
       "      <td>2.680200e-02</td>\n",
       "      <td>2.143700e-02</td>\n",
       "      <td>2.389200e-02</td>\n",
       "      <td>4.278000e+03</td>\n",
       "      <td>5.227960e+05</td>\n",
       "      <td>0.432400</td>\n",
       "      <td>0.000000e+00</td>\n",
       "    </tr>\n",
       "    <tr>\n",
       "      <th>75%</th>\n",
       "      <td>1484.000000</td>\n",
       "      <td>2.268600e-01</td>\n",
       "      <td>2.508940e-01</td>\n",
       "      <td>2.043910e-01</td>\n",
       "      <td>2.259340e-01</td>\n",
       "      <td>1.190900e+05</td>\n",
       "      <td>6.874647e+06</td>\n",
       "      <td>0.745800</td>\n",
       "      <td>3.000000e-02</td>\n",
       "    </tr>\n",
       "    <tr>\n",
       "      <th>max</th>\n",
       "      <td>2072.000000</td>\n",
       "      <td>2.298390e+06</td>\n",
       "      <td>2.926100e+06</td>\n",
       "      <td>2.030590e+06</td>\n",
       "      <td>2.300740e+06</td>\n",
       "      <td>2.384090e+10</td>\n",
       "      <td>3.265025e+11</td>\n",
       "      <td>1.000000</td>\n",
       "      <td>1.770563e+06</td>\n",
       "    </tr>\n",
       "  </tbody>\n",
       "</table>\n",
       "</div>"
      ],
      "text/plain": [
       "             ranknow          open          high           low         close  \\\n",
       "count  942297.000000  9.422970e+05  9.422970e+05  9.422970e+05  9.422970e+05   \n",
       "mean     1000.170608  3.483522e+02  4.085930e+02  2.962526e+02  3.461018e+02   \n",
       "std       587.575283  1.318436e+04  1.616386e+04  1.092931e+04  1.309822e+04   \n",
       "min         1.000000  2.500000e-09  3.200000e-09  2.500000e-10  2.000000e-10   \n",
       "25%       465.000000  2.321000e-03  2.628000e-03  2.044000e-03  2.314000e-03   \n",
       "50%      1072.000000  2.398300e-02  2.680200e-02  2.143700e-02  2.389200e-02   \n",
       "75%      1484.000000  2.268600e-01  2.508940e-01  2.043910e-01  2.259340e-01   \n",
       "max      2072.000000  2.298390e+06  2.926100e+06  2.030590e+06  2.300740e+06   \n",
       "\n",
       "             volume        market    close_ratio        spread  \n",
       "count  9.422970e+05  9.422970e+05  942297.000000  9.422970e+05  \n",
       "mean   8.720383e+06  1.725060e+08       0.459499  1.123400e+02  \n",
       "std    1.839802e+08  3.575590e+09       0.326160  6.783713e+03  \n",
       "min    0.000000e+00  0.000000e+00      -1.000000  0.000000e+00  \n",
       "25%    1.750000e+02  2.958100e+04       0.162900  0.000000e+00  \n",
       "50%    4.278000e+03  5.227960e+05       0.432400  0.000000e+00  \n",
       "75%    1.190900e+05  6.874647e+06       0.745800  3.000000e-02  \n",
       "max    2.384090e+10  3.265025e+11       1.000000  1.770563e+06  "
      ]
     },
     "execution_count": 7,
     "metadata": {},
     "output_type": "execute_result"
    }
   ],
   "source": [
    "dataset.describe()"
   ]
  },
  {
   "cell_type": "code",
   "execution_count": 8,
   "metadata": {},
   "outputs": [],
   "source": [
    "dataset['date']=pd.to_datetime(dataset['date'])"
   ]
  },
  {
   "cell_type": "markdown",
   "metadata": {},
   "source": [
    "to_datetime function is used to convert date which is in string format into date time format so that further visualization can be done"
   ]
  },
  {
   "cell_type": "code",
   "execution_count": 9,
   "metadata": {},
   "outputs": [
    {
     "data": {
      "image/png": "[encoded data removed]",
      "text/plain": [
       "<Figure size 432x288 with 1 Axes>"
      ]
     },
     "metadata": {
      "needs_background": "light"
     },
     "output_type": "display_data"
    }
   ],
   "source": [
    "ax = dataset.groupby(['name'])['market'].last().sort_values(ascending=False).head(10).sort_values().plot(kind='barh');\n",
    "ax.set_xlabel(\"Market capital\");\n",
    "plt.title(\"Top 10 Currencies by Market Capital\");"
   ]
  },
  {
   "cell_type": "markdown",
   "metadata": {},
   "source": [
    "These are the top 10 crytocurrencies by market capital.As we can see Bitcoin has a very great market capital as compare to others. Since these are the top 10 currencies and our data has more than 9 lakh rows, to make it easy to visualize we have taken only these 10 cryptocurrencies to reduce the number of rows."
   ]
  },
  {
   "cell_type": "code",
   "execution_count": 10,
   "metadata": {},
   "outputs": [],
   "source": [
    "df1=dataset[dataset['name']=='Bitcoin']\n",
    "df2=dataset[dataset['name']=='XRP']\n",
    "df3=dataset[dataset['name']=='Ethereum']\n",
    "df4=dataset[dataset['name']=='Bitcoin Cash']\n",
    "df5=dataset[dataset['name']=='Stellar']\n",
    "df6=dataset[dataset['name']=='EOS']\n",
    "df7=dataset[dataset['name']=='Litecoin']\n",
    "df8=dataset[dataset['name']=='Tether']\n",
    "df9=dataset[dataset['name']=='Bitcoin SV']\n",
    "df10=dataset[dataset['name']=='Cardano']"
   ]
  },
  {
   "cell_type": "code",
   "execution_count": 11,
   "metadata": {},
   "outputs": [],
   "source": [
    "newdata=df1.append([df2,df3,df4,df5,df6,df7,df8,df9,df10])"
   ]
  },
  {
   "cell_type": "markdown",
   "metadata": {},
   "source": [
    "we first created 10 datasets for particular currencies. After making these datasets, we merge them into a single dataset which consists of more than 11 thousand rows. The top 10 currencies by market capital are included and others are neglected. Newdata dataset contains the new data formed by merging the 10 datasets and below is the complete info of the dataset"
   ]
  },
  {
   "cell_type": "code",
   "execution_count": 12,
   "metadata": {},
   "outputs": [
    {
     "name": "stdout",
     "output_type": "stream",
     "text": [
      "<class 'pandas.core.frame.DataFrame'>\n",
      "Int64Index: 11644 entries, 0 to 11643\n",
      "Data columns (total 13 columns):\n",
      "slug           11644 non-null object\n",
      "symbol         11644 non-null object\n",
      "name           11644 non-null object\n",
      "date           11644 non-null datetime64[ns]\n",
      "ranknow        11644 non-null int64\n",
      "open           11644 non-null float64\n",
      "high           11644 non-null float64\n",
      "low            11644 non-null float64\n",
      "close          11644 non-null float64\n",
      "volume         11644 non-null float64\n",
      "market         11644 non-null float64\n",
      "close_ratio    11644 non-null float64\n",
      "spread         11644 non-null float64\n",
      "dtypes: datetime64[ns](1), float64(8), int64(1), object(3)\n",
      "memory usage: 1.2+ MB\n"
     ]
    }
   ],
   "source": [
    "newdata.info()"
   ]
  },
  {
   "cell_type": "code",
   "execution_count": 13,
   "metadata": {},
   "outputs": [
    {
     "data": {
      "text/html": [
       "<div>\n",
       "<style scoped>\n",
       "    .dataframe tbody tr th:only-of-type {\n",
       "        vertical-align: middle;\n",
       "    }\n",
       "\n",
       "    .dataframe tbody tr th {\n",
       "        vertical-align: top;\n",
       "    }\n",
       "\n",
       "    .dataframe thead th {\n",
       "        text-align: right;\n",
       "    }\n",
       "</style>\n",
       "<table border=\"1\" class=\"dataframe\">\n",
       "  <thead>\n",
       "    <tr style=\"text-align: right;\">\n",
       "      <th></th>\n",
       "      <th>ranknow</th>\n",
       "      <th>open</th>\n",
       "      <th>high</th>\n",
       "      <th>low</th>\n",
       "      <th>close</th>\n",
       "      <th>volume</th>\n",
       "      <th>market</th>\n",
       "      <th>close_ratio</th>\n",
       "      <th>spread</th>\n",
       "    </tr>\n",
       "  </thead>\n",
       "  <tbody>\n",
       "    <tr>\n",
       "      <th>count</th>\n",
       "      <td>11644.000000</td>\n",
       "      <td>11644.000000</td>\n",
       "      <td>11644.000000</td>\n",
       "      <td>11644.000000</td>\n",
       "      <td>11644.000000</td>\n",
       "      <td>1.164400e+04</td>\n",
       "      <td>1.164400e+04</td>\n",
       "      <td>11644.000000</td>\n",
       "      <td>11644.000000</td>\n",
       "    </tr>\n",
       "    <tr>\n",
       "      <th>mean</th>\n",
       "      <td>4.391704</td>\n",
       "      <td>468.260211</td>\n",
       "      <td>483.960428</td>\n",
       "      <td>450.780887</td>\n",
       "      <td>468.535117</td>\n",
       "      <td>5.599015e+08</td>\n",
       "      <td>1.145511e+10</td>\n",
       "      <td>0.472116</td>\n",
       "      <td>33.179425</td>\n",
       "    </tr>\n",
       "    <tr>\n",
       "      <th>std</th>\n",
       "      <td>2.689976</td>\n",
       "      <td>1683.825936</td>\n",
       "      <td>1743.288200</td>\n",
       "      <td>1612.760552</td>\n",
       "      <td>1684.053758</td>\n",
       "      <td>1.548592e+09</td>\n",
       "      <td>3.001969e+10</td>\n",
       "      <td>0.319965</td>\n",
       "      <td>163.563062</td>\n",
       "    </tr>\n",
       "    <tr>\n",
       "      <th>min</th>\n",
       "      <td>1.000000</td>\n",
       "      <td>0.001352</td>\n",
       "      <td>0.001509</td>\n",
       "      <td>0.001227</td>\n",
       "      <td>0.001357</td>\n",
       "      <td>0.000000e+00</td>\n",
       "      <td>0.000000e+00</td>\n",
       "      <td>0.000000</td>\n",
       "      <td>0.000000</td>\n",
       "    </tr>\n",
       "    <tr>\n",
       "      <th>25%</th>\n",
       "      <td>2.000000</td>\n",
       "      <td>0.180779</td>\n",
       "      <td>0.190327</td>\n",
       "      <td>0.171399</td>\n",
       "      <td>0.181263</td>\n",
       "      <td>6.364022e+05</td>\n",
       "      <td>1.353812e+08</td>\n",
       "      <td>0.188700</td>\n",
       "      <td>0.000000</td>\n",
       "    </tr>\n",
       "    <tr>\n",
       "      <th>50%</th>\n",
       "      <td>4.000000</td>\n",
       "      <td>2.300000</td>\n",
       "      <td>2.485000</td>\n",
       "      <td>2.140000</td>\n",
       "      <td>2.300000</td>\n",
       "      <td>1.994730e+07</td>\n",
       "      <td>1.114746e+09</td>\n",
       "      <td>0.457950</td>\n",
       "      <td>0.090000</td>\n",
       "    </tr>\n",
       "    <tr>\n",
       "      <th>75%</th>\n",
       "      <td>7.000000</td>\n",
       "      <td>202.535000</td>\n",
       "      <td>208.800000</td>\n",
       "      <td>193.297500</td>\n",
       "      <td>201.152500</td>\n",
       "      <td>3.123192e+08</td>\n",
       "      <td>7.700622e+09</td>\n",
       "      <td>0.757775</td>\n",
       "      <td>6.170000</td>\n",
       "    </tr>\n",
       "    <tr>\n",
       "      <th>max</th>\n",
       "      <td>10.000000</td>\n",
       "      <td>19475.800000</td>\n",
       "      <td>20089.000000</td>\n",
       "      <td>18974.100000</td>\n",
       "      <td>19497.400000</td>\n",
       "      <td>2.384090e+10</td>\n",
       "      <td>3.265025e+11</td>\n",
       "      <td>1.000000</td>\n",
       "      <td>4110.400000</td>\n",
       "    </tr>\n",
       "  </tbody>\n",
       "</table>\n",
       "</div>"
      ],
      "text/plain": [
       "            ranknow          open          high           low         close  \\\n",
       "count  11644.000000  11644.000000  11644.000000  11644.000000  11644.000000   \n",
       "mean       4.391704    468.260211    483.960428    450.780887    468.535117   \n",
       "std        2.689976   1683.825936   1743.288200   1612.760552   1684.053758   \n",
       "min        1.000000      0.001352      0.001509      0.001227      0.001357   \n",
       "25%        2.000000      0.180779      0.190327      0.171399      0.181263   \n",
       "50%        4.000000      2.300000      2.485000      2.140000      2.300000   \n",
       "75%        7.000000    202.535000    208.800000    193.297500    201.152500   \n",
       "max       10.000000  19475.800000  20089.000000  18974.100000  19497.400000   \n",
       "\n",
       "             volume        market   close_ratio        spread  \n",
       "count  1.164400e+04  1.164400e+04  11644.000000  11644.000000  \n",
       "mean   5.599015e+08  1.145511e+10      0.472116     33.179425  \n",
       "std    1.548592e+09  3.001969e+10      0.319965    163.563062  \n",
       "min    0.000000e+00  0.000000e+00      0.000000      0.000000  \n",
       "25%    6.364022e+05  1.353812e+08      0.188700      0.000000  \n",
       "50%    1.994730e+07  1.114746e+09      0.457950      0.090000  \n",
       "75%    3.123192e+08  7.700622e+09      0.757775      6.170000  \n",
       "max    2.384090e+10  3.265025e+11      1.000000   4110.400000  "
      ]
     },
     "execution_count": 13,
     "metadata": {},
     "output_type": "execute_result"
    }
   ],
   "source": [
    "newdata.describe()"
   ]
  },
  {
   "cell_type": "code",
   "execution_count": 14,
   "metadata": {},
   "outputs": [
    {
     "data": {
      "text/plain": [
       "array(['Bitcoin', 'XRP', 'Ethereum', 'Bitcoin Cash', 'Stellar', 'EOS',\n",
       "       'Litecoin', 'Tether', 'Bitcoin SV', 'Cardano'], dtype=object)"
      ]
     },
     "execution_count": 14,
     "metadata": {},
     "output_type": "execute_result"
    }
   ],
   "source": [
    "newdata['name'].unique()"
   ]
  },
  {
   "cell_type": "markdown",
   "metadata": {},
   "source": [
    "These are the cryptocurrencies which we have taken for visualization and training our models."
   ]
  },
  {
   "cell_type": "code",
   "execution_count": 15,
   "metadata": {},
   "outputs": [],
   "source": [
    "newdata['Year'] = (newdata['date']).dt.year\n",
    "newdata['Month'] = (newdata['date']).dt.month\n",
    "newdata['Day'] = (newdata['date']).dt.day"
   ]
  },
  {
   "cell_type": "markdown",
   "metadata": {},
   "source": [
    "We have converted date into different columns i.e. in year, month and day so that we can able to visualize properly with respect to time"
   ]
  },
  {
   "cell_type": "code",
   "execution_count": 16,
   "metadata": {},
   "outputs": [
    {
     "data": {
      "image/png": "[encoded data removed]",
      "text/plain": [
       "<Figure size 720x720 with 1 Axes>"
      ]
     },
     "metadata": {
      "needs_background": "light"
     },
     "output_type": "display_data"
    }
   ],
   "source": [
    "plt.figure(figsize=(10,10))\n",
    "sns.countplot(x=newdata['name'],order=newdata['name'].value_counts().index);\n",
    "plt.xlabel(\"NAMES\");\n",
    "plt.ylabel(\"COUNT\");"
   ]
  },
  {
   "cell_type": "markdown",
   "metadata": {},
   "source": [
    "The countplot shows the count or total number of rows of a particular currency in the dataset. As we can see that Litecoin, Bitcoin have around 2000 rows , XRP has around 1800 rows and stellar has 1600 rows. We also can see that Bitcoin SV, Cardano, Bitcoin Cash has very low rows as compare to Litecoin and Bitcoin"
   ]
  },
  {
   "cell_type": "code",
   "execution_count": 17,
   "metadata": {},
   "outputs": [
    {
     "data": {
      "image/png": "[encoded data removed]",
      "text/plain": [
       "<Figure size 720x720 with 1 Axes>"
      ]
     },
     "metadata": {
      "needs_background": "light"
     },
     "output_type": "display_data"
    }
   ],
   "source": [
    "plt.figure(figsize=(10,10))\n",
    "sns.barplot(x=newdata['name'],y=newdata['market']);\n",
    "plt.xlabel(\"NAME\");\n",
    "plt.ylabel(\"MARKET\");\n",
    "plt.title(\"MARKET OF EVERY CURRENCY\");"
   ]
  },
  {
   "cell_type": "markdown",
   "metadata": {},
   "source": [
    "The barplot shows the market value for each of the currency. From the graph we can see that Bitcoin have a huge capital from others. The second cryptocurrency with good market capital is Ethereum. Bitcoin Cash and XRP are other cryptocurrencies with little good market capital. Stellar, Tether, Bitcoin SV and EOS have very low market as compare to all other currencies present in the data "
   ]
  },
  {
   "cell_type": "code",
   "execution_count": 18,
   "metadata": {},
   "outputs": [
    {
     "data": {
      "image/png": "[encoded data removed]",
      "text/plain": [
       "<Figure size 504x504 with 1 Axes>"
      ]
     },
     "metadata": {
      "needs_background": "light"
     },
     "output_type": "display_data"
    }
   ],
   "source": [
    "plt.figure(figsize=(7,7))\n",
    "sns.scatterplot(x=newdata['spread'],y=newdata['high'],hue=newdata['name']);\n",
    "plt.title('SPREAD VS HIGH OF EVERY CURRENCY');\n",
    "plt.xlabel('SPREAD');\n",
    "plt.ylabel('HIGH');"
   ]
  },
  {
   "cell_type": "markdown",
   "metadata": {},
   "source": [
    "The scatterplot shows high vs spread of every currency. From the graph we can see that all the currencies except Bitcoin have very low spread and high whereas Bitcoin is touching the mark of 20000 in high and nearly 4000 in spread. We can conclude that Bitcoin is the most spreaded currency with highest market capital and highest high value."
   ]
  },
  {
   "cell_type": "code",
   "execution_count": 19,
   "metadata": {},
   "outputs": [
    {
     "data": {
      "image/png": "[encoded data removed]",
      "text/plain": [
       "<Figure size 720x504 with 1 Axes>"
      ]
     },
     "metadata": {
      "needs_background": "light"
     },
     "output_type": "display_data"
    }
   ],
   "source": [
    "plt.figure(figsize=(10,7))\n",
    "sns.lineplot(x=newdata['name'],y=newdata['close_ratio']);\n",
    "plt.title('CLOSE RATIO OF EVERY CURRENCY');\n",
    "plt.xlabel('NAME');\n",
    "plt.ylabel('CLOSE RATIO');"
   ]
  },
  {
   "cell_type": "markdown",
   "metadata": {},
   "source": [
    "The line graph shows the close ratio of every cryptocurrency present in the top 10 currencies by market capital. Again Bitcoin has the highest close ratio around 0.55 and tether has the minimum close ratio around 0.27. Other currencies such as Ethereum, EOS and Cardano lie in the same range i.e around 0.49-0.51. Stellar and XRP ranges around 0.46. Bitcoin is again leading the graph with the highest close ratio. "
   ]
  },
  {
   "cell_type": "code",
   "execution_count": 20,
   "metadata": {},
   "outputs": [
    {
     "data": {
      "image/png": "[encoded data removed]",
      "text/plain": [
       "<Figure size 432x288 with 1 Axes>"
      ]
     },
     "metadata": {
      "needs_background": "light"
     },
     "output_type": "display_data"
    }
   ],
   "source": [
    "ax = newdata.groupby(['name'])['spread'].last().sort_values(ascending=False).head(5).sort_values().plot(kind='barh');\n",
    "ax.set_xlabel(\"SPREAD\");\n",
    "ax.set_ylabel(\"NAME\")\n",
    "plt.title(\"Top 5 Currencies by Spread\");"
   ]
  },
  {
   "cell_type": "markdown",
   "metadata": {},
   "source": [
    "This bar graph shows the top 5 currencies by spread. Apart from Bitcoin, all other currencies have spread less than 30 whereas bitcoin have a spread more than 250"
   ]
  },
  {
   "cell_type": "code",
   "execution_count": 21,
   "metadata": {},
   "outputs": [
    {
     "data": {
      "image/png": "[encoded data removed]",
      "text/plain": [
       "<Figure size 720x360 with 1 Axes>"
      ]
     },
     "metadata": {
      "needs_background": "light"
     },
     "output_type": "display_data"
    }
   ],
   "source": [
    "plt.figure(figsize=(10,5))\n",
    "sns.barplot(x=newdata['name'],y=newdata['ranknow']);\n",
    "plt.xlabel(\"NAME\");\n",
    "plt.ylabel(\"RANKINGS\");\n",
    "plt.title(\"RANKINGS OF EVERY CURRENCY\");"
   ]
  },
  {
   "cell_type": "markdown",
   "metadata": {},
   "source": [
    "This graph shows the ranking of each currency. We can clearly see that Bitcoin is at number one and XRP at number 2.Cardano is at last position i.e. at number 10 in the list of top 10 currencies."
   ]
  },
  {
   "cell_type": "code",
   "execution_count": 22,
   "metadata": {},
   "outputs": [
    {
     "data": {
      "image/png": "[encoded data removed]",
      "text/plain": [
       "<Figure size 720x720 with 1 Axes>"
      ]
     },
     "metadata": {
      "needs_background": "light"
     },
     "output_type": "display_data"
    }
   ],
   "source": [
    "plt.figure(figsize=(10,10))\n",
    "sns.lineplot(x=newdata['close_ratio'],y=newdata['high'],hue=newdata['name']);\n",
    "plt.xlabel(\"CLOSE RATIO\");\n",
    "plt.ylabel(\"HIGH\");\n",
    "plt.title(\"CLOSE RATIO VS HIGH OF EVERY CURRENCY\");"
   ]
  },
  {
   "cell_type": "markdown",
   "metadata": {},
   "source": [
    "This line graph shows the variation of close ratio and high value of every currency present in the new dataset. We can clearly see that bitcoin is again leading the graph having highest high and close ratio.Cardano also has good high and close ratio as compare to Bitcoin. All other currencies have very low high and close ratio and hence very less market and spread."
   ]
  },
  {
   "cell_type": "markdown",
   "metadata": {},
   "source": [
    "# CORRELATION"
   ]
  },
  {
   "cell_type": "code",
   "execution_count": 23,
   "metadata": {},
   "outputs": [
    {
     "data": {
      "image/png": "[encoded data removed]",
      "text/plain": [
       "<Figure size 720x720 with 2 Axes>"
      ]
     },
     "metadata": {
      "needs_background": "light"
     },
     "output_type": "display_data"
    }
   ],
   "source": [
    "plt.figure(figsize=(10,10))\n",
    "sns.heatmap(newdata.corr(),annot=True,linecolor='white',linewidths=0.5);\n",
    "plt.title(\"CORRELATION\");"
   ]
  },
  {
   "cell_type": "code",
   "execution_count": 24,
   "metadata": {},
   "outputs": [
    {
     "data": {
      "text/plain": [
       "volume         1.000000\n",
       "market         0.868260\n",
       "high           0.827440\n",
       "open           0.823103\n",
       "close          0.822261\n",
       "low            0.814322\n",
       "spread         0.789667\n",
       "Year           0.360564\n",
       "close_ratio    0.064232\n",
       "Day           -0.002506\n",
       "Month         -0.035796\n",
       "ranknow       -0.139461\n",
       "Name: volume, dtype: float64"
      ]
     },
     "execution_count": 24,
     "metadata": {},
     "output_type": "execute_result"
    }
   ],
   "source": [
    "newdata.corr()['volume'].sort_values(ascending=False)"
   ]
  },
  {
   "cell_type": "markdown",
   "metadata": {},
   "source": [
    "This heatmap shows the correlation of all the columns or attributes present in the data. The highest correltaion among the variables is of 75% and correlation between ranknow and other attributes is mainly negative hence thier is not a correlation between these attributes.Market and close ratio and Market and spread have highest correlation around 0.75 i.e. 75%."
   ]
  },
  {
   "cell_type": "markdown",
   "metadata": {},
   "source": [
    "# MODEL TRAINING\n"
   ]
  },
  {
   "cell_type": "markdown",
   "metadata": {},
   "source": [
    "# REGRESSION TECHNIQUES"
   ]
  },
  {
   "cell_type": "markdown",
   "metadata": {},
   "source": [
    "# 1) LINEAR REGRESSION\n"
   ]
  },
  {
   "cell_type": "markdown",
   "metadata": {},
   "source": [
    "Linear regression is a linear approach to modeling the relationship between a scalar response (or dependent variable) and one or more explanatory variables (or independent variables)."
   ]
  },
  {
   "cell_type": "code",
   "execution_count": 25,
   "metadata": {},
   "outputs": [],
   "source": [
    "X=pd.DataFrame(newdata.iloc[:,9])\n",
    "y=pd.DataFrame(newdata.iloc[:,10])\n"
   ]
  },
  {
   "cell_type": "markdown",
   "metadata": {},
   "source": [
    "Using X and y to store values. X is the independent variable and y is dependent. X contains values of column volume and y is our market. Hence we are predicting the market of a currency with the help of its volume."
   ]
  },
  {
   "cell_type": "code",
   "execution_count": 26,
   "metadata": {},
   "outputs": [
    {
     "data": {
      "text/plain": [
       "array([[-0.36157079],\n",
       "       [-0.36157079],\n",
       "       [-0.36157079],\n",
       "       ...,\n",
       "       [-0.34996859],\n",
       "       [-0.33081605],\n",
       "       [-0.33603419]])"
      ]
     },
     "execution_count": 26,
     "metadata": {},
     "output_type": "execute_result"
    }
   ],
   "source": [
    "from sklearn.preprocessing import StandardScaler\n",
    "Sc=StandardScaler()\n",
    "Sc.fit_transform(X)"
   ]
  },
  {
   "cell_type": "markdown",
   "metadata": {},
   "source": [
    "Preprocessing is the main part of our model training. Since our data does not consists any null values and the variables we have taken are both numeric therefore, thier is no need of label Encoding and one hot encoding for converting categorical data into numeric. We directly move on to the standard scaling for converting our values into a range that makes computation quite easier and faster. As we can see the array have the values ranging from -1 to 1."
   ]
  },
  {
   "cell_type": "markdown",
   "metadata": {},
   "source": [
    "Now after preprocessing our data its time to split our data for training and testing our model. We have divided our data 70% for training and 30% for testing our trained model."
   ]
  },
  {
   "cell_type": "code",
   "execution_count": 27,
   "metadata": {},
   "outputs": [],
   "source": [
    "from sklearn.model_selection import train_test_split\n",
    "X_train,X_test,y_train,y_test=train_test_split(X,y,test_size=0.3,random_state=101)"
   ]
  },
  {
   "cell_type": "code",
   "execution_count": 28,
   "metadata": {},
   "outputs": [
    {
     "name": "stdout",
     "output_type": "stream",
     "text": [
      "Coeff is:  [[16.5914859]]\n",
      "Intercept is:  [2.13750117e+09]\n"
     ]
    }
   ],
   "source": [
    "from sklearn.linear_model import LinearRegression\n",
    "regressor=LinearRegression()\n",
    "regressor.fit(X_train,y_train)\n",
    "print(\"Coeff is: \",regressor.coef_)\n",
    "print(\"Intercept is: \",regressor.intercept_)"
   ]
  },
  {
   "cell_type": "markdown",
   "metadata": {},
   "source": [
    "We have used linear regression for predicting our data. The main equation of Linear Regression have values Beta and Beta1 apart from X and y. For our equation Beta comes out to be 16.59 and Beta1 comes out to be 2.13. Hence we got our equation for predicting the values of y for different values of X."
   ]
  },
  {
   "cell_type": "code",
   "execution_count": 29,
   "metadata": {},
   "outputs": [],
   "source": [
    "predictor=regressor.predict(X_test)"
   ]
  },
  {
   "cell_type": "markdown",
   "metadata": {},
   "source": [
    "We used variable predictor to store the predicted value for each value of X."
   ]
  },
  {
   "cell_type": "code",
   "execution_count": 30,
   "metadata": {},
   "outputs": [
    {
     "name": "stdout",
     "output_type": "stream",
     "text": [
      "Mean Squared error:  2.268236062992482e+20\n",
      "R2 score:  0.7855372769075496\n"
     ]
    }
   ],
   "source": [
    "from sklearn.metrics import mean_squared_error,r2_score\n",
    "print(\"Mean Squared error: \",mean_squared_error(y_test,predictor))\n",
    "print(\"R2 score: \",r2_score(y_test,predictor))\n",
    "reg_arr=array.array('f',)\n",
    "reg_arr.append(r2_score(y_test,predictor))"
   ]
  },
  {
   "cell_type": "markdown",
   "metadata": {},
   "source": [
    "Mean Squared Error and R2 score are used to calculate the accuracy of our model. The mean Squared Error for our model came out to be 2.2 and r2 score for our model came out to be 0.785. Hence we got 78.55% accuracy for our trained model. Its not underfitting and as well as its not overfitting as well.The array which is ued here is used to store the values of all the results we will get from other models."
   ]
  },
  {
   "cell_type": "code",
   "execution_count": 31,
   "metadata": {},
   "outputs": [
    {
     "data": {
      "image/png": "[encoded data removed]",
      "text/plain": [
       "<Figure size 432x288 with 1 Axes>"
      ]
     },
     "metadata": {
      "needs_background": "light"
     },
     "output_type": "display_data"
    }
   ],
   "source": [
    "plt.scatter(X_test,y_test);\n",
    "plt.plot(X_test,regressor.predict(X_test));\n",
    "plt.title(\"Regression Line\");"
   ]
  },
  {
   "cell_type": "markdown",
   "metadata": {},
   "source": [
    "The graph showing the regression line of the best fit passing through the points of X and y. We can see that the regression line almost passing through mid of the points and its the line of best fit."
   ]
  },
  {
   "cell_type": "markdown",
   "metadata": {},
   "source": [
    "# 2)POLYNOMIAL FEATURES"
   ]
  },
  {
   "cell_type": "markdown",
   "metadata": {},
   "source": [
    "Now after linear regression , we are using polynomial features to train our model.Polynomial features consists of degree 2 and more and hence best fits the data."
   ]
  },
  {
   "cell_type": "code",
   "execution_count": 32,
   "metadata": {},
   "outputs": [],
   "source": [
    "from sklearn.preprocessing import PolynomialFeatures"
   ]
  },
  {
   "cell_type": "markdown",
   "metadata": {},
   "source": [
    "Importing polynomial features from preprocessing and all the steps are same as what have done in Linear regression."
   ]
  },
  {
   "cell_type": "code",
   "execution_count": 33,
   "metadata": {},
   "outputs": [],
   "source": [
    "pf=PolynomialFeatures(degree=2)"
   ]
  },
  {
   "cell_type": "code",
   "execution_count": 34,
   "metadata": {},
   "outputs": [],
   "source": [
    "X_pf=pf.fit_transform(X)\n"
   ]
  },
  {
   "cell_type": "code",
   "execution_count": 35,
   "metadata": {},
   "outputs": [
    {
     "data": {
      "text/plain": [
       "LinearRegression(copy_X=True, fit_intercept=True, n_jobs=None,\n",
       "         normalize=False)"
      ]
     },
     "execution_count": 35,
     "metadata": {},
     "output_type": "execute_result"
    }
   ],
   "source": [
    "lr=LinearRegression()\n",
    "lr.fit(X_pf,y)"
   ]
  },
  {
   "cell_type": "code",
   "execution_count": 36,
   "metadata": {},
   "outputs": [],
   "source": [
    "y_pf_pred=lr.predict(X_pf)\n"
   ]
  },
  {
   "cell_type": "code",
   "execution_count": 37,
   "metadata": {},
   "outputs": [
    {
     "name": "stdout",
     "output_type": "stream",
     "text": [
      "Mean Squared Error:  2.1712768930571744e+20\n",
      "R2 Score:  0.7590426200589713\n"
     ]
    }
   ],
   "source": [
    "print(\"Mean Squared Error: \",mean_squared_error(y,y_pf_pred))\n",
    "print(\"R2 Score: \",r2_score(y,y_pf_pred))\n",
    "reg_arr.append(r2_score(y,y_pf_pred))"
   ]
  },
  {
   "cell_type": "code",
   "execution_count": 38,
   "metadata": {},
   "outputs": [
    {
     "data": {
      "text/plain": [
       "((11644, 3), (11644, 1), (11644, 1), (11644, 1))"
      ]
     },
     "execution_count": 38,
     "metadata": {},
     "output_type": "execute_result"
    }
   ],
   "source": [
    "X_pf.shape,y.shape,y_pf_pred.shape,X.shape"
   ]
  },
  {
   "cell_type": "code",
   "execution_count": 39,
   "metadata": {},
   "outputs": [
    {
     "data": {
      "image/png": "[encoded data removed]",
      "text/plain": [
       "<Figure size 432x288 with 1 Axes>"
      ]
     },
     "metadata": {
      "needs_background": "light"
     },
     "output_type": "display_data"
    }
   ],
   "source": [
    "plt.scatter(X,y);\n",
    "plt.plot(X,y_pf_pred);\n",
    "plt.title(\"Regression Line\");"
   ]
  },
  {
   "cell_type": "markdown",
   "metadata": {},
   "source": [
    "The polynomial feature line is little bit curved. It makes it different from linear regression model as in linear regression, this line is always straight. Hence in some cases polynomial features are used for better accuracy."
   ]
  },
  {
   "cell_type": "markdown",
   "metadata": {},
   "source": [
    "# 3)DECISION TREE REGRESSOR"
   ]
  },
  {
   "cell_type": "code",
   "execution_count": 40,
   "metadata": {},
   "outputs": [
    {
     "data": {
      "text/plain": [
       "DecisionTreeRegressor(criterion='mse', max_depth=None, max_features=None,\n",
       "           max_leaf_nodes=None, min_impurity_decrease=0.0,\n",
       "           min_impurity_split=None, min_samples_leaf=1,\n",
       "           min_samples_split=2, min_weight_fraction_leaf=0.0,\n",
       "           presort=False, random_state=None, splitter='best')"
      ]
     },
     "execution_count": 40,
     "metadata": {},
     "output_type": "execute_result"
    }
   ],
   "source": [
    "from sklearn.tree import DecisionTreeRegressor  \n",
    "regressor = DecisionTreeRegressor()  \n",
    "regressor.fit(X_train, y_train) "
   ]
  },
  {
   "cell_type": "code",
   "execution_count": 41,
   "metadata": {},
   "outputs": [],
   "source": [
    "y_pred=regressor.predict(X_test)"
   ]
  },
  {
   "cell_type": "code",
   "execution_count": 42,
   "metadata": {},
   "outputs": [
    {
     "name": "stdout",
     "output_type": "stream",
     "text": [
      "Mean Square error:  4.1488351040823086e+20\n",
      "R2 score:  0.6077258057042051\n"
     ]
    }
   ],
   "source": [
    "print(\"Mean Square error: \",mean_squared_error(y_test,y_pred))\n",
    "print(\"R2 score: \",r2_score(y_test,y_pred))\n",
    "reg_arr.append(r2_score(y_test,y_pred))"
   ]
  },
  {
   "cell_type": "markdown",
   "metadata": {},
   "source": [
    "# DECISION TREE USING CROSS VALIDATION"
   ]
  },
  {
   "cell_type": "code",
   "execution_count": 43,
   "metadata": {},
   "outputs": [
    {
     "name": "stdout",
     "output_type": "stream",
     "text": [
      "Mean:  0.5098096037295281\n",
      "Standard Deviation:  0.08866804593775605\n"
     ]
    }
   ],
   "source": [
    "from sklearn.model_selection import cross_val_score\n",
    "scores = cross_val_score(estimator=regressor, X=X_train, y=y_train, cv=10)\n",
    "print(\"Mean: \",scores.mean())\n",
    "print(\"Standard Deviation: \",scores.std())\n",
    "reg_arr.append(scores.mean())"
   ]
  },
  {
   "cell_type": "markdown",
   "metadata": {},
   "source": [
    "We can see that mean score is of 50. Hence we are hetting 50% accuracy using cross validation in decision tree. The previous value for decision tree is around 60%. Hence its not an effective model"
   ]
  },
  {
   "cell_type": "markdown",
   "metadata": {},
   "source": [
    "# 4)KNN REGRESSOR"
   ]
  },
  {
   "cell_type": "code",
   "execution_count": 44,
   "metadata": {},
   "outputs": [],
   "source": [
    "from sklearn.neighbors import KNeighborsRegressor"
   ]
  },
  {
   "cell_type": "code",
   "execution_count": 45,
   "metadata": {},
   "outputs": [],
   "source": [
    "reg = KNeighborsRegressor(n_neighbors=3)"
   ]
  },
  {
   "cell_type": "code",
   "execution_count": 46,
   "metadata": {},
   "outputs": [
    {
     "data": {
      "text/plain": [
       "KNeighborsRegressor(algorithm='auto', leaf_size=30, metric='minkowski',\n",
       "          metric_params=None, n_jobs=None, n_neighbors=3, p=2,\n",
       "          weights='uniform')"
      ]
     },
     "execution_count": 46,
     "metadata": {},
     "output_type": "execute_result"
    }
   ],
   "source": [
    "reg.fit(X_train,y_train)"
   ]
  },
  {
   "cell_type": "code",
   "execution_count": 47,
   "metadata": {},
   "outputs": [],
   "source": [
    "y_pred=reg.predict(X_test)"
   ]
  },
  {
   "cell_type": "code",
   "execution_count": 48,
   "metadata": {},
   "outputs": [
    {
     "name": "stdout",
     "output_type": "stream",
     "text": [
      "Mean Squred Error:  2.7308660704992307e+20\n",
      "R2 score:  0.741795405057015\n"
     ]
    }
   ],
   "source": [
    "print(\"Mean Squred Error: \",mean_squared_error(y_test,y_pred))\n",
    "print(\"R2 score: \",r2_score(y_test,y_pred))\n",
    "reg_arr.append(r2_score(y_test,y_pred))"
   ]
  },
  {
   "cell_type": "markdown",
   "metadata": {},
   "source": [
    "With the help of KNN model, we get accuracy around 74% which is better than decision tree."
   ]
  },
  {
   "cell_type": "markdown",
   "metadata": {},
   "source": [
    "# 5)SVM"
   ]
  },
  {
   "cell_type": "code",
   "execution_count": 49,
   "metadata": {},
   "outputs": [
    {
     "name": "stdout",
     "output_type": "stream",
     "text": [
      "R2 Score:  -0.1205702940476232\n"
     ]
    }
   ],
   "source": [
    "from sklearn.svm import SVR\n",
    "\n",
    "svm_reg = SVR(kernel=\"rbf\")\n",
    "svm_reg.fit(X_train, y_train)\n",
    "y_pred = svm_reg.predict(X_test)\n",
    "svm_mse = mean_squared_error(y_test, y_pred)\n",
    "svm_rmse = np.sqrt(svm_mse)\n",
    "svm_rmse\n",
    "print(\"R2 Score: \",r2_score(y_test,y_pred))\n",
    "reg_arr.append(r2_score(y_test,y_pred))"
   ]
  },
  {
   "cell_type": "markdown",
   "metadata": {},
   "source": [
    "Using SVM as regressor for our dataset is a bad choice as we get our accuracy in negative. Hence we are going to ignore it."
   ]
  },
  {
   "cell_type": "markdown",
   "metadata": {},
   "source": [
    "# 6)RANDOM FOREST\n"
   ]
  },
  {
   "cell_type": "code",
   "execution_count": 50,
   "metadata": {},
   "outputs": [
    {
     "name": "stdout",
     "output_type": "stream",
     "text": [
      "Mean Squared Error:  3.075456360053286e+20\n",
      "R2 Score:  0.7092142407528552\n"
     ]
    }
   ],
   "source": [
    "from sklearn.ensemble import RandomForestRegressor\n",
    "\n",
    "forest_reg = RandomForestRegressor(n_estimators=10, random_state=42)\n",
    "forest_reg.fit(X_train, y_train)\n",
    "y_pred = forest_reg.predict(X_test)\n",
    "forest_mse = mean_squared_error(y_test, y_pred)\n",
    "print(\"Mean Squared Error: \",forest_mse)\n",
    "print(\"R2 Score: \",r2_score(y_test,y_pred))\n",
    "reg_arr.append(r2_score(y_test,y_pred))"
   ]
  },
  {
   "cell_type": "markdown",
   "metadata": {},
   "source": [
    "Using random forest , we get 70% accuracy which is not that bad for our model.\n"
   ]
  },
  {
   "cell_type": "markdown",
   "metadata": {},
   "source": [
    "#  RANDOM FOREST USING CROSS VALIDATION"
   ]
  },
  {
   "cell_type": "code",
   "execution_count": 51,
   "metadata": {},
   "outputs": [
    {
     "name": "stdout",
     "output_type": "stream",
     "text": [
      "Mean:  0.6332044830769803\n",
      "Standard Deviation:  0.06831777253042767\n"
     ]
    }
   ],
   "source": [
    "from sklearn.model_selection import cross_val_score\n",
    "scores = cross_val_score(estimator=forest_reg, X=X_train, y=y_train, cv=10)\n",
    "print(\"Mean: \",scores.mean())\n",
    "print(\"Standard Deviation: \",scores.std())\n",
    "reg_arr.append(scores.mean())"
   ]
  },
  {
   "cell_type": "markdown",
   "metadata": {},
   "source": [
    "We have seen that using cross validation on decision tree reduces its accuracy. Here the case is also same. Accuracy of our model is decreased to 63% which was earlier 70%."
   ]
  },
  {
   "cell_type": "code",
   "execution_count": 52,
   "metadata": {},
   "outputs": [
    {
     "data": {
      "text/html": [
       "<div>\n",
       "<style scoped>\n",
       "    .dataframe tbody tr th:only-of-type {\n",
       "        vertical-align: middle;\n",
       "    }\n",
       "\n",
       "    .dataframe tbody tr th {\n",
       "        vertical-align: top;\n",
       "    }\n",
       "\n",
       "    .dataframe thead th {\n",
       "        text-align: right;\n",
       "    }\n",
       "</style>\n",
       "<table border=\"1\" class=\"dataframe\">\n",
       "  <thead>\n",
       "    <tr style=\"text-align: right;\">\n",
       "      <th></th>\n",
       "      <th>0</th>\n",
       "    </tr>\n",
       "  </thead>\n",
       "  <tbody>\n",
       "    <tr>\n",
       "      <th>Linear Regression</th>\n",
       "      <td>0.785537</td>\n",
       "    </tr>\n",
       "    <tr>\n",
       "      <th>Polynomial Featues</th>\n",
       "      <td>0.759043</td>\n",
       "    </tr>\n",
       "    <tr>\n",
       "      <th>Decision tree</th>\n",
       "      <td>0.607726</td>\n",
       "    </tr>\n",
       "    <tr>\n",
       "      <th>Decision Tree using CV</th>\n",
       "      <td>0.509810</td>\n",
       "    </tr>\n",
       "    <tr>\n",
       "      <th>KNN</th>\n",
       "      <td>0.741795</td>\n",
       "    </tr>\n",
       "    <tr>\n",
       "      <th>SVM</th>\n",
       "      <td>-0.120570</td>\n",
       "    </tr>\n",
       "    <tr>\n",
       "      <th>Random Forest</th>\n",
       "      <td>0.709214</td>\n",
       "    </tr>\n",
       "    <tr>\n",
       "      <th>RF using CV</th>\n",
       "      <td>0.633204</td>\n",
       "    </tr>\n",
       "  </tbody>\n",
       "</table>\n",
       "</div>"
      ],
      "text/plain": [
       "                               0\n",
       "Linear Regression       0.785537\n",
       "Polynomial Featues      0.759043\n",
       "Decision tree           0.607726\n",
       "Decision Tree using CV  0.509810\n",
       "KNN                     0.741795\n",
       "SVM                    -0.120570\n",
       "Random Forest           0.709214\n",
       "RF using CV             0.633204"
      ]
     },
     "execution_count": 52,
     "metadata": {},
     "output_type": "execute_result"
    }
   ],
   "source": [
    "list=['Linear Regression','Polynomial Featues','Decision tree','Decision Tree using CV','KNN','SVM','Random Forest','RF using CV']\n",
    "comp=pd.DataFrame(reg_arr,index=list)\n",
    "comp"
   ]
  },
  {
   "cell_type": "markdown",
   "metadata": {},
   "source": [
    "In the above table, the first column contains all the algorithms we have applied on our data and second column consists of  R2 score which we got from each model. We can clearly see that R2 score for linear regression is highest with r2 score of around 78. Hence we can use Linear regression for our model predictions instead of any other model."
   ]
  },
  {
   "cell_type": "markdown",
   "metadata": {},
   "source": [
    "# FEATURE SELECTION"
   ]
  },
  {
   "cell_type": "code",
   "execution_count": 53,
   "metadata": {},
   "outputs": [],
   "source": [
    "from sklearn.feature_selection import SelectKBest\n",
    "from sklearn.feature_selection import chi2"
   ]
  },
  {
   "cell_type": "code",
   "execution_count": 54,
   "metadata": {},
   "outputs": [
    {
     "name": "stdout",
     "output_type": "stream",
     "text": [
      "          Specs         Score\n",
      "6        market  1.877148e+14\n",
      "5        volume  5.251954e+12\n",
      "2          high  1.886345e+07\n",
      "4         close  1.836377e+07\n",
      "1          open  1.834666e+07\n",
      "3           low  1.776083e+07\n",
      "8        spread  1.154733e+06\n",
      "0       ranknow  1.918354e+04\n",
      "7   close_ratio  1.536419e+02\n",
      "10        Month  1.087239e+02\n"
     ]
    }
   ],
   "source": [
    "R=newdata.iloc[:,4:]\n",
    "t=newdata.iloc[:,2]\n",
    "bestfeatures = SelectKBest(score_func=chi2, k=10)\n",
    "fit = bestfeatures.fit(R,t)\n",
    "dfscores = pd.DataFrame(fit.scores_)\n",
    "dfcolumns = pd.DataFrame(R.columns)\n",
    "featureScores = pd.concat([dfcolumns,dfscores],axis=1)\n",
    "featureScores.columns = ['Specs','Score']  \n",
    "print(featureScores.nlargest(10,'Score').sort_values(by='Score',ascending=False))  \n"
   ]
  },
  {
   "cell_type": "markdown",
   "metadata": {},
   "source": [
    "Using the feature selection, we come to know which features are best suited for our model training. As we can see market have highest score and volume feature have second highest score. So these two features will provide good accuracy for classifying the currencies. High,close and open have almost same score so we can take any one of them for our model training."
   ]
  },
  {
   "cell_type": "markdown",
   "metadata": {},
   "source": [
    "# CLASSIFICATION TECHNIQUES"
   ]
  },
  {
   "cell_type": "markdown",
   "metadata": {},
   "source": [
    "# 1)DECISION TREE\n"
   ]
  },
  {
   "cell_type": "markdown",
   "metadata": {},
   "source": [
    "A decision tree is a decision support tool that uses a tree-like model of decisions and their possible consequences, including chance event outcomes, resource costs, and utility. It is one way to display an algorithm that only contains conditional control statements."
   ]
  },
  {
   "cell_type": "code",
   "execution_count": 55,
   "metadata": {},
   "outputs": [],
   "source": [
    "A=pd.DataFrame(newdata.iloc[:,[8,9,10]]).values\n",
    "b=pd.DataFrame(newdata.iloc[:,2]).values\n"
   ]
  },
  {
   "cell_type": "markdown",
   "metadata": {},
   "source": [
    "For our decision tree model we have taken three features close, volume and market to predict the name of the cryptocurrencies. For decision tree model we do not need feature selection as in decision tree optimum features are taken and hence their is no need for feature selection in this case."
   ]
  },
  {
   "cell_type": "code",
   "execution_count": 56,
   "metadata": {},
   "outputs": [
    {
     "data": {
      "text/html": [
       "<div>\n",
       "<style scoped>\n",
       "    .dataframe tbody tr th:only-of-type {\n",
       "        vertical-align: middle;\n",
       "    }\n",
       "\n",
       "    .dataframe tbody tr th {\n",
       "        vertical-align: top;\n",
       "    }\n",
       "\n",
       "    .dataframe thead th {\n",
       "        text-align: right;\n",
       "    }\n",
       "</style>\n",
       "<table border=\"1\" class=\"dataframe\">\n",
       "  <thead>\n",
       "    <tr style=\"text-align: right;\">\n",
       "      <th></th>\n",
       "      <th>slug</th>\n",
       "      <th>symbol</th>\n",
       "      <th>name</th>\n",
       "      <th>date</th>\n",
       "      <th>ranknow</th>\n",
       "      <th>open</th>\n",
       "      <th>high</th>\n",
       "      <th>low</th>\n",
       "      <th>close</th>\n",
       "      <th>volume</th>\n",
       "      <th>market</th>\n",
       "      <th>close_ratio</th>\n",
       "      <th>spread</th>\n",
       "      <th>Year</th>\n",
       "      <th>Month</th>\n",
       "      <th>Day</th>\n",
       "    </tr>\n",
       "  </thead>\n",
       "  <tbody>\n",
       "    <tr>\n",
       "      <th>0</th>\n",
       "      <td>bitcoin</td>\n",
       "      <td>BTC</td>\n",
       "      <td>Bitcoin</td>\n",
       "      <td>2013-04-28</td>\n",
       "      <td>1</td>\n",
       "      <td>135.30</td>\n",
       "      <td>135.98</td>\n",
       "      <td>132.10</td>\n",
       "      <td>134.21</td>\n",
       "      <td>0.0</td>\n",
       "      <td>1.488567e+09</td>\n",
       "      <td>0.5438</td>\n",
       "      <td>3.88</td>\n",
       "      <td>2013</td>\n",
       "      <td>4</td>\n",
       "      <td>28</td>\n",
       "    </tr>\n",
       "    <tr>\n",
       "      <th>1</th>\n",
       "      <td>bitcoin</td>\n",
       "      <td>BTC</td>\n",
       "      <td>Bitcoin</td>\n",
       "      <td>2013-04-29</td>\n",
       "      <td>1</td>\n",
       "      <td>134.44</td>\n",
       "      <td>147.49</td>\n",
       "      <td>134.00</td>\n",
       "      <td>144.54</td>\n",
       "      <td>0.0</td>\n",
       "      <td>1.603769e+09</td>\n",
       "      <td>0.7813</td>\n",
       "      <td>13.49</td>\n",
       "      <td>2013</td>\n",
       "      <td>4</td>\n",
       "      <td>29</td>\n",
       "    </tr>\n",
       "    <tr>\n",
       "      <th>2</th>\n",
       "      <td>bitcoin</td>\n",
       "      <td>BTC</td>\n",
       "      <td>Bitcoin</td>\n",
       "      <td>2013-04-30</td>\n",
       "      <td>1</td>\n",
       "      <td>144.00</td>\n",
       "      <td>146.93</td>\n",
       "      <td>134.05</td>\n",
       "      <td>139.00</td>\n",
       "      <td>0.0</td>\n",
       "      <td>1.542813e+09</td>\n",
       "      <td>0.3843</td>\n",
       "      <td>12.88</td>\n",
       "      <td>2013</td>\n",
       "      <td>4</td>\n",
       "      <td>30</td>\n",
       "    </tr>\n",
       "    <tr>\n",
       "      <th>3</th>\n",
       "      <td>bitcoin</td>\n",
       "      <td>BTC</td>\n",
       "      <td>Bitcoin</td>\n",
       "      <td>2013-05-01</td>\n",
       "      <td>1</td>\n",
       "      <td>139.00</td>\n",
       "      <td>139.89</td>\n",
       "      <td>107.72</td>\n",
       "      <td>116.99</td>\n",
       "      <td>0.0</td>\n",
       "      <td>1.298955e+09</td>\n",
       "      <td>0.2882</td>\n",
       "      <td>32.17</td>\n",
       "      <td>2013</td>\n",
       "      <td>5</td>\n",
       "      <td>1</td>\n",
       "    </tr>\n",
       "    <tr>\n",
       "      <th>4</th>\n",
       "      <td>bitcoin</td>\n",
       "      <td>BTC</td>\n",
       "      <td>Bitcoin</td>\n",
       "      <td>2013-05-02</td>\n",
       "      <td>1</td>\n",
       "      <td>116.38</td>\n",
       "      <td>125.60</td>\n",
       "      <td>92.28</td>\n",
       "      <td>105.21</td>\n",
       "      <td>0.0</td>\n",
       "      <td>1.168517e+09</td>\n",
       "      <td>0.3881</td>\n",
       "      <td>33.32</td>\n",
       "      <td>2013</td>\n",
       "      <td>5</td>\n",
       "      <td>2</td>\n",
       "    </tr>\n",
       "  </tbody>\n",
       "</table>\n",
       "</div>"
      ],
      "text/plain": [
       "      slug symbol     name       date  ranknow    open    high     low  \\\n",
       "0  bitcoin    BTC  Bitcoin 2013-04-28        1  135.30  135.98  132.10   \n",
       "1  bitcoin    BTC  Bitcoin 2013-04-29        1  134.44  147.49  134.00   \n",
       "2  bitcoin    BTC  Bitcoin 2013-04-30        1  144.00  146.93  134.05   \n",
       "3  bitcoin    BTC  Bitcoin 2013-05-01        1  139.00  139.89  107.72   \n",
       "4  bitcoin    BTC  Bitcoin 2013-05-02        1  116.38  125.60   92.28   \n",
       "\n",
       "    close  volume        market  close_ratio  spread  Year  Month  Day  \n",
       "0  134.21     0.0  1.488567e+09       0.5438    3.88  2013      4   28  \n",
       "1  144.54     0.0  1.603769e+09       0.7813   13.49  2013      4   29  \n",
       "2  139.00     0.0  1.542813e+09       0.3843   12.88  2013      4   30  \n",
       "3  116.99     0.0  1.298955e+09       0.2882   32.17  2013      5    1  \n",
       "4  105.21     0.0  1.168517e+09       0.3881   33.32  2013      5    2  "
      ]
     },
     "execution_count": 56,
     "metadata": {},
     "output_type": "execute_result"
    }
   ],
   "source": [
    "newdata.head()"
   ]
  },
  {
   "cell_type": "code",
   "execution_count": 57,
   "metadata": {},
   "outputs": [],
   "source": [
    "from sklearn.model_selection import train_test_split\n",
    "A_train,A_test,b_train,b_test=train_test_split(A,b,test_size=0.3)\n"
   ]
  },
  {
   "cell_type": "markdown",
   "metadata": {},
   "source": [
    "Again splitting the data in training and testing our model. The percentage remains same i.e. 70% for our training and 30% for testing for trained model."
   ]
  },
  {
   "cell_type": "code",
   "execution_count": 58,
   "metadata": {},
   "outputs": [],
   "source": [
    "from sklearn.preprocessing import StandardScaler\n",
    "sc = StandardScaler()\n",
    "A_train = sc.fit_transform(A_train)\n",
    "A_test = sc.transform(A_test)\n"
   ]
  },
  {
   "cell_type": "markdown",
   "metadata": {},
   "source": [
    "Again Using standard Scaling to convert the values into a particular range for easier computation and faster solving."
   ]
  },
  {
   "cell_type": "code",
   "execution_count": 59,
   "metadata": {},
   "outputs": [
    {
     "data": {
      "text/plain": [
       "DecisionTreeClassifier(class_weight=None, criterion='entropy', max_depth=None,\n",
       "            max_features=None, max_leaf_nodes=None,\n",
       "            min_impurity_decrease=0.0, min_impurity_split=None,\n",
       "            min_samples_leaf=1, min_samples_split=2,\n",
       "            min_weight_fraction_leaf=0.0, presort=False, random_state=None,\n",
       "            splitter='best')"
      ]
     },
     "execution_count": 59,
     "metadata": {},
     "output_type": "execute_result"
    }
   ],
   "source": [
    "from sklearn.tree import DecisionTreeClassifier\n",
    "classifier = DecisionTreeClassifier(criterion = 'entropy')\n",
    "classifier.fit(A_train, b_train)"
   ]
  },
  {
   "cell_type": "markdown",
   "metadata": {},
   "source": [
    "Using decision tree classifier for our model training. "
   ]
  },
  {
   "cell_type": "code",
   "execution_count": 60,
   "metadata": {},
   "outputs": [],
   "source": [
    "des_pred = classifier.predict(A_test)"
   ]
  },
  {
   "cell_type": "code",
   "execution_count": 61,
   "metadata": {},
   "outputs": [
    {
     "data": {
      "text/plain": [
       "array([[596,  20,   0,   0,   0,   0,   0,   0,   0,   0],\n",
       "       [ 11, 128,   0,   0,   0,   0,   0,   0,   0,   0],\n",
       "       [  0,   0,   7,   0,   0,   0,   3,   0,   0,   0],\n",
       "       [  0,   0,   0, 126,   0,   0,   0,   3,   0,   1],\n",
       "       [  0,   0,   0,   0, 157,   0,   0,   0,   1,   0],\n",
       "       [  0,   1,   0,   0,   0, 351,   5,   0,   1,   0],\n",
       "       [  0,   0,   0,   0,   0,   3, 632,   0,   0,   0],\n",
       "       [  0,   0,   0,   2,   0,   0,   0, 455,   0,   4],\n",
       "       [  0,   0,   0,   0,   0,   0,   0,   0, 412,   0],\n",
       "       [  0,   0,   0,   5,   0,   0,   0,   4,   0, 566]], dtype=int64)"
      ]
     },
     "execution_count": 61,
     "metadata": {},
     "output_type": "execute_result"
    }
   ],
   "source": [
    "from sklearn.metrics import confusion_matrix\n",
    "cm = confusion_matrix(b_test, des_pred)\n",
    "cm"
   ]
  },
  {
   "cell_type": "markdown",
   "metadata": {},
   "source": [
    "Confusion matrix, also known as an error matrix, is a specific table layout that allows visualization of the performance of an algorithm, typically a supervised learning one"
   ]
  },
  {
   "cell_type": "code",
   "execution_count": 62,
   "metadata": {},
   "outputs": [
    {
     "name": "stdout",
     "output_type": "stream",
     "text": [
      "Accuracy:  0.9816828849456211\n"
     ]
    }
   ],
   "source": [
    "from sklearn.metrics import accuracy_score\n",
    "acc = accuracy_score(b_test, des_pred)\n",
    "print(\"Accuracy: \",acc)\n",
    "clf_arr=array.array('f',)\n",
    "clf_arr.append(accuracy_score(b_test, des_pred))"
   ]
  },
  {
   "cell_type": "markdown",
   "metadata": {},
   "source": [
    "Using accuracy_score function for calculating the accuracy for our trained model. With the help of decision tree classifier the accuracy comes out to be around 97% which is good for our data and we do not need to make any improvements to make a better model."
   ]
  },
  {
   "cell_type": "code",
   "execution_count": 63,
   "metadata": {},
   "outputs": [
    {
     "name": "stdout",
     "output_type": "stream",
     "text": [
      "              precision    recall  f1-score   support\n",
      "\n",
      "     Bitcoin       0.98      0.97      0.97       616\n",
      "Bitcoin Cash       0.86      0.92      0.89       139\n",
      "  Bitcoin SV       1.00      0.70      0.82        10\n",
      "     Cardano       0.95      0.97      0.96       130\n",
      "         EOS       1.00      0.99      1.00       158\n",
      "    Ethereum       0.99      0.98      0.99       358\n",
      "    Litecoin       0.99      1.00      0.99       635\n",
      "     Stellar       0.98      0.99      0.99       461\n",
      "      Tether       1.00      1.00      1.00       412\n",
      "         XRP       0.99      0.98      0.99       575\n",
      "\n",
      "   micro avg       0.98      0.98      0.98      3494\n",
      "   macro avg       0.97      0.95      0.96      3494\n",
      "weighted avg       0.98      0.98      0.98      3494\n",
      "\n"
     ]
    }
   ],
   "source": [
    "from sklearn.metrics import classification_report\n",
    "report=classification_report(b_test,des_pred)\n",
    "print(report)"
   ]
  },
  {
   "cell_type": "markdown",
   "metadata": {},
   "source": [
    "Since our data is multiclass , going with ROC and AUC curve will make it congested and information cannot be derived properly from that. Hence we have used accuracy and classification report which is giving us precision, recall and f1 score. In total we are getting 4 performance measures for our model."
   ]
  },
  {
   "cell_type": "markdown",
   "metadata": {},
   "source": [
    "# 2)LOGISTIC REGRESSION"
   ]
  },
  {
   "cell_type": "markdown",
   "metadata": {},
   "source": [
    "After training our model we moved to logistic regression.The logistic model is used to model the probability of a certain class or event existing such as pass/fail, win/lose, alive/dead or healthy/sick. This can be extended to model several classes of events such as determining whether an image contains a cat, dog, lion, etc."
   ]
  },
  {
   "cell_type": "markdown",
   "metadata": {},
   "source": [
    "Now we are going to import Logistic regression from scikitlearn to begin with our model training."
   ]
  },
  {
   "cell_type": "code",
   "execution_count": 64,
   "metadata": {},
   "outputs": [
    {
     "data": {
      "text/plain": [
       "LogisticRegression(C=1.0, class_weight=None, dual=False, fit_intercept=True,\n",
       "          intercept_scaling=1, max_iter=100, multi_class='warn',\n",
       "          n_jobs=None, penalty='l2', random_state=None, solver='warn',\n",
       "          tol=0.0001, verbose=0, warm_start=False)"
      ]
     },
     "execution_count": 64,
     "metadata": {},
     "output_type": "execute_result"
    }
   ],
   "source": [
    "\n",
    "from sklearn.linear_model import LogisticRegression\n",
    "classifier = LogisticRegression()\n",
    "classifier.fit(A_train, b_train)\n"
   ]
  },
  {
   "cell_type": "code",
   "execution_count": 65,
   "metadata": {},
   "outputs": [],
   "source": [
    "logic_pred = classifier.predict(A_test)"
   ]
  },
  {
   "cell_type": "code",
   "execution_count": 66,
   "metadata": {},
   "outputs": [
    {
     "data": {
      "text/plain": [
       "array([[559,   3,   0,   0,   0,   0,  54,   0,   0,   0],\n",
       "       [125,   5,   0,   0,   0,   1,   5,   0,   3,   0],\n",
       "       [  1,   0,   0,   0,   0,   0,   9,   0,   0,   0],\n",
       "       [  0,   0,   0,   0,   0,   0,  25,   0,   0, 105],\n",
       "       [  0,   0,   0,   0,   0,  14,  72,   0,  13,  59],\n",
       "       [  0,   0,   0,   0,   0, 162, 172,   0,   0,  24],\n",
       "       [  0,   0,   0,   0,   0,  26, 599,   0,  10,   0],\n",
       "       [  0,   0,   0,   0,   0,   0, 357,   0,   0, 104],\n",
       "       [  0,   0,   0,   0,   0,   0, 287,   0, 125,   0],\n",
       "       [  0,   0,   0,   0,   0,  16, 394,   0,   0, 165]], dtype=int64)"
      ]
     },
     "execution_count": 66,
     "metadata": {},
     "output_type": "execute_result"
    }
   ],
   "source": [
    "cm=confusion_matrix(b_test,logic_pred)\n",
    "cm"
   ]
  },
  {
   "cell_type": "markdown",
   "metadata": {},
   "source": [
    "Confusion matrix for our model"
   ]
  },
  {
   "cell_type": "code",
   "execution_count": 67,
   "metadata": {},
   "outputs": [
    {
     "name": "stdout",
     "output_type": "stream",
     "text": [
      "              precision    recall  f1-score   support\n",
      "\n",
      "     Bitcoin       0.82      0.91      0.86       616\n",
      "Bitcoin Cash       0.62      0.04      0.07       139\n",
      "  Bitcoin SV       0.00      0.00      0.00        10\n",
      "     Cardano       0.00      0.00      0.00       130\n",
      "         EOS       0.00      0.00      0.00       158\n",
      "    Ethereum       0.74      0.45      0.56       358\n",
      "    Litecoin       0.30      0.94      0.46       635\n",
      "     Stellar       0.00      0.00      0.00       461\n",
      "      Tether       0.83      0.30      0.44       412\n",
      "         XRP       0.36      0.29      0.32       575\n",
      "\n",
      "   micro avg       0.46      0.46      0.46      3494\n",
      "   macro avg       0.37      0.29      0.27      3494\n",
      "weighted avg       0.46      0.46      0.40      3494\n",
      "\n"
     ]
    }
   ],
   "source": [
    "from sklearn.metrics import classification_report\n",
    "print(classification_report(b_test, logic_pred))"
   ]
  },
  {
   "cell_type": "markdown",
   "metadata": {},
   "source": [
    "Classification Report is the overall summary of our trained model."
   ]
  },
  {
   "cell_type": "code",
   "execution_count": 68,
   "metadata": {},
   "outputs": [
    {
     "name": "stdout",
     "output_type": "stream",
     "text": [
      "Accuracy:  0.46222095020034343\n"
     ]
    }
   ],
   "source": [
    "from sklearn.metrics import accuracy_score\n",
    "acc = accuracy_score(b_test, logic_pred)\n",
    "print(\"Accuracy: \",acc)\n",
    "clf_arr.append(accuracy_score(b_test, logic_pred))"
   ]
  },
  {
   "cell_type": "markdown",
   "metadata": {},
   "source": [
    "Logistic regression technique gives only 45% accuracy which is bad. It underfits our data. We will not fine tune this model as with the help of other models , we are getting accuracy double than this."
   ]
  },
  {
   "cell_type": "markdown",
   "metadata": {},
   "source": [
    "# 3)KNN"
   ]
  },
  {
   "cell_type": "markdown",
   "metadata": {},
   "source": [
    "The third model we are going to use is KNN. It is lazy learner and it can be used for both regression and classification."
   ]
  },
  {
   "cell_type": "code",
   "execution_count": 69,
   "metadata": {},
   "outputs": [
    {
     "data": {
      "text/plain": [
       "KNeighborsClassifier(algorithm='auto', leaf_size=30, metric='euclidean',\n",
       "           metric_params=None, n_jobs=None, n_neighbors=5, p=2,\n",
       "           weights='uniform')"
      ]
     },
     "execution_count": 69,
     "metadata": {},
     "output_type": "execute_result"
    }
   ],
   "source": [
    "from sklearn.metrics import confusion_matrix\n",
    "from sklearn.neighbors import KNeighborsClassifier\n",
    "knn = KNeighborsClassifier(n_neighbors=5, metric='euclidean')\n",
    "knn.fit(A_train, b_train)"
   ]
  },
  {
   "cell_type": "code",
   "execution_count": 70,
   "metadata": {},
   "outputs": [],
   "source": [
    "knn_pred = knn.predict(A_test)"
   ]
  },
  {
   "cell_type": "code",
   "execution_count": 71,
   "metadata": {},
   "outputs": [
    {
     "data": {
      "text/plain": [
       "array([[595,  21,   0,   0,   0,   0,   0,   0,   0,   0],\n",
       "       [ 11, 125,   0,   0,   0,   1,   1,   0,   1,   0],\n",
       "       [  4,   0,   2,   0,   0,   0,   4,   0,   0,   0],\n",
       "       [  0,   0,   0,  74,   9,   0,   0,  21,   1,  25],\n",
       "       [  0,   0,   0,   7, 130,   4,   3,  10,   3,   1],\n",
       "       [  0,   0,   0,   0,   4, 338,  15,   0,   0,   1],\n",
       "       [  0,   0,   0,   0,   8,   8, 612,   0,   7,   0],\n",
       "       [  0,   0,   0,  16,  15,   0,   3, 407,   4,  16],\n",
       "       [  0,   0,   0,   0,   2,   0,   0,   0, 410,   0],\n",
       "       [  0,   0,   0,  20,   3,  10,   1,  19,   0, 522]], dtype=int64)"
      ]
     },
     "execution_count": 71,
     "metadata": {},
     "output_type": "execute_result"
    }
   ],
   "source": [
    "confusion_matrix(b_test, knn_pred)\n"
   ]
  },
  {
   "cell_type": "code",
   "execution_count": 72,
   "metadata": {},
   "outputs": [
    {
     "name": "stdout",
     "output_type": "stream",
     "text": [
      "Accuracy:  0.9201488265598168\n"
     ]
    }
   ],
   "source": [
    "from sklearn.metrics import accuracy_score\n",
    "acc = accuracy_score(b_test, knn_pred)\n",
    "print(\"Accuracy: \",acc)\n",
    "clf_arr.append(accuracy_score(b_test, knn_pred))"
   ]
  },
  {
   "cell_type": "markdown",
   "metadata": {},
   "source": [
    "We are getting accuracy of 91% which is best for our model becuase accuracy we get from decision tree may be consider as overfitting and can fail in some circumstances.Hence we are going to fine tune this model for better accuracy rather than decision tree."
   ]
  },
  {
   "cell_type": "code",
   "execution_count": 73,
   "metadata": {},
   "outputs": [
    {
     "name": "stdout",
     "output_type": "stream",
     "text": [
      "              precision    recall  f1-score   support\n",
      "\n",
      "     Bitcoin       0.98      0.97      0.97       616\n",
      "Bitcoin Cash       0.86      0.90      0.88       139\n",
      "  Bitcoin SV       1.00      0.20      0.33        10\n",
      "     Cardano       0.63      0.57      0.60       130\n",
      "         EOS       0.76      0.82      0.79       158\n",
      "    Ethereum       0.94      0.94      0.94       358\n",
      "    Litecoin       0.96      0.96      0.96       635\n",
      "     Stellar       0.89      0.88      0.89       461\n",
      "      Tether       0.96      1.00      0.98       412\n",
      "         XRP       0.92      0.91      0.92       575\n",
      "\n",
      "   micro avg       0.92      0.92      0.92      3494\n",
      "   macro avg       0.89      0.82      0.83      3494\n",
      "weighted avg       0.92      0.92      0.92      3494\n",
      "\n"
     ]
    }
   ],
   "source": [
    "print(classification_report(b_test, knn_pred))"
   ]
  },
  {
   "cell_type": "markdown",
   "metadata": {},
   "source": [
    "Classification report showing precision, recall and f1 score for all the classes in our data."
   ]
  },
  {
   "cell_type": "markdown",
   "metadata": {},
   "source": [
    "# 4)SVM\n"
   ]
  },
  {
   "cell_type": "code",
   "execution_count": 74,
   "metadata": {},
   "outputs": [
    {
     "data": {
      "text/plain": [
       "SVC(C=1, cache_size=200, class_weight=None, coef0=0.0,\n",
       "  decision_function_shape='ovr', degree=3, gamma='auto', kernel='rbf',\n",
       "  max_iter=-1, probability=False, random_state=None, shrinking=True,\n",
       "  tol=0.001, verbose=False)"
      ]
     },
     "execution_count": 74,
     "metadata": {},
     "output_type": "execute_result"
    }
   ],
   "source": [
    "from sklearn import svm\n",
    "svm_model=svm.SVC(kernel='rbf', C=1,gamma=\"auto\")\n",
    "svm_model.fit(A_train,b_train)"
   ]
  },
  {
   "cell_type": "code",
   "execution_count": 75,
   "metadata": {},
   "outputs": [],
   "source": [
    "svm_model_pred=svm_model.predict(A_test)"
   ]
  },
  {
   "cell_type": "code",
   "execution_count": 76,
   "metadata": {},
   "outputs": [
    {
     "data": {
      "text/plain": [
       "array([[568,  13,   0,   0,   0,   0,  35,   0,   0,   0],\n",
       "       [ 31, 107,   0,   0,   0,   0,   1,   0,   0,   0],\n",
       "       [  1,   0,   0,   0,   0,   0,   9,   0,   0,   0],\n",
       "       [  0,   0,   0,   0,   3,   0,  91,   0,   0,  36],\n",
       "       [  0,   0,   0,   0,  65,   4,  85,   0,   4,   0],\n",
       "       [  0,   0,   0,   0,   3, 159, 191,   0,   0,   5],\n",
       "       [  0,   0,   0,   0,   5,   3, 624,   0,   3,   0],\n",
       "       [  0,   0,   0,   0,   3,   0, 416,   0,   0,  42],\n",
       "       [  0,   0,   0,   0,   2,   0, 294,   0, 116,   0],\n",
       "       [  0,   0,   0,   0,   4,   2, 400,   0,   0, 169]], dtype=int64)"
      ]
     },
     "execution_count": 76,
     "metadata": {},
     "output_type": "execute_result"
    }
   ],
   "source": [
    "cm=confusion_matrix(b_test,svm_model_pred)\n",
    "cm"
   ]
  },
  {
   "cell_type": "code",
   "execution_count": 77,
   "metadata": {},
   "outputs": [
    {
     "name": "stdout",
     "output_type": "stream",
     "text": [
      "              precision    recall  f1-score   support\n",
      "\n",
      "     Bitcoin       0.95      0.92      0.93       616\n",
      "Bitcoin Cash       0.89      0.77      0.83       139\n",
      "  Bitcoin SV       0.00      0.00      0.00        10\n",
      "     Cardano       0.00      0.00      0.00       130\n",
      "         EOS       0.76      0.41      0.53       158\n",
      "    Ethereum       0.95      0.44      0.60       358\n",
      "    Litecoin       0.29      0.98      0.45       635\n",
      "     Stellar       0.00      0.00      0.00       461\n",
      "      Tether       0.94      0.28      0.43       412\n",
      "         XRP       0.67      0.29      0.41       575\n",
      "\n",
      "   micro avg       0.52      0.52      0.52      3494\n",
      "   macro avg       0.55      0.41      0.42      3494\n",
      "weighted avg       0.61      0.52      0.48      3494\n",
      "\n"
     ]
    }
   ],
   "source": [
    "report=classification_report(b_test,svm_model_pred)\n",
    "print(report)"
   ]
  },
  {
   "cell_type": "code",
   "execution_count": 78,
   "metadata": {},
   "outputs": [
    {
     "name": "stdout",
     "output_type": "stream",
     "text": [
      "Accuracy:  0.5174585002862049\n"
     ]
    }
   ],
   "source": [
    "acc=accuracy_score(b_test,svm_model_pred)\n",
    "print(\"Accuracy: \",acc)\n",
    "clf_arr.append(accuracy_score(b_test,svm_model_pred))"
   ]
  },
  {
   "cell_type": "markdown",
   "metadata": {},
   "source": [
    "SVM gives almost the same result as logistic regression. We get only 51% accuracy. But we are going to fine tune this model as it is one of the best model for predictions."
   ]
  },
  {
   "cell_type": "markdown",
   "metadata": {},
   "source": [
    "# 5)RANDOM FOREST CLASSIFIER "
   ]
  },
  {
   "cell_type": "code",
   "execution_count": 79,
   "metadata": {},
   "outputs": [],
   "source": [
    "from sklearn.ensemble import RandomForestClassifier\n"
   ]
  },
  {
   "cell_type": "code",
   "execution_count": 80,
   "metadata": {},
   "outputs": [],
   "source": [
    "rfc= RandomForestClassifier()"
   ]
  },
  {
   "cell_type": "code",
   "execution_count": 81,
   "metadata": {},
   "outputs": [
    {
     "data": {
      "text/plain": [
       "RandomForestClassifier(bootstrap=True, class_weight=None, criterion='gini',\n",
       "            max_depth=None, max_features='auto', max_leaf_nodes=None,\n",
       "            min_impurity_decrease=0.0, min_impurity_split=None,\n",
       "            min_samples_leaf=1, min_samples_split=2,\n",
       "            min_weight_fraction_leaf=0.0, n_estimators=10, n_jobs=None,\n",
       "            oob_score=False, random_state=None, verbose=0,\n",
       "            warm_start=False)"
      ]
     },
     "execution_count": 81,
     "metadata": {},
     "output_type": "execute_result"
    }
   ],
   "source": [
    "rfc.fit(A_train,b_train)"
   ]
  },
  {
   "cell_type": "code",
   "execution_count": 82,
   "metadata": {},
   "outputs": [],
   "source": [
    "rfc_pred=rfc.predict(A_test)"
   ]
  },
  {
   "cell_type": "code",
   "execution_count": 83,
   "metadata": {},
   "outputs": [
    {
     "name": "stdout",
     "output_type": "stream",
     "text": [
      "[[593  22   0   0   0   0   1   0   0   0]\n",
      " [ 10 127   0   0   0   0   2   0   0   0]\n",
      " [  0   1   9   0   0   0   0   0   0   0]\n",
      " [  0   0   0 122   0   0   0   7   0   1]\n",
      " [  0   0   0   0 157   0   0   0   1   0]\n",
      " [  2   0   0   0   0 346  10   0   0   0]\n",
      " [  0   0   0   0   0   7 628   0   0   0]\n",
      " [  0   0   0   5   0   0   0 449   0   7]\n",
      " [  0   0   0   0   0   0   0   0 412   0]\n",
      " [  0   0   0   7   0   0   0   2   0 566]]\n"
     ]
    }
   ],
   "source": [
    "rfc_cm=confusion_matrix(b_test,rfc_pred)\n",
    "print(rfc_cm)"
   ]
  },
  {
   "cell_type": "code",
   "execution_count": 84,
   "metadata": {},
   "outputs": [
    {
     "name": "stdout",
     "output_type": "stream",
     "text": [
      "Accuracy:  0.975672581568403\n"
     ]
    }
   ],
   "source": [
    "\n",
    "acc = accuracy_score(b_test, rfc_pred)\n",
    "print(\"Accuracy: \",acc)\n",
    "clf_arr.append( accuracy_score(b_test, rfc_pred))"
   ]
  },
  {
   "cell_type": "markdown",
   "metadata": {},
   "source": [
    "Random forest classifier is the good choice to use. It is giving almost same accuracy as decision tree. It is an esemble method and it forms decision tree during its calculations. Hence we will fine tune this model insted of decision tree."
   ]
  },
  {
   "cell_type": "code",
   "execution_count": 85,
   "metadata": {},
   "outputs": [
    {
     "name": "stdout",
     "output_type": "stream",
     "text": [
      "              precision    recall  f1-score   support\n",
      "\n",
      "     Bitcoin       0.98      0.96      0.97       616\n",
      "Bitcoin Cash       0.85      0.91      0.88       139\n",
      "  Bitcoin SV       1.00      0.90      0.95        10\n",
      "     Cardano       0.91      0.94      0.92       130\n",
      "         EOS       1.00      0.99      1.00       158\n",
      "    Ethereum       0.98      0.97      0.97       358\n",
      "    Litecoin       0.98      0.99      0.98       635\n",
      "     Stellar       0.98      0.97      0.98       461\n",
      "      Tether       1.00      1.00      1.00       412\n",
      "         XRP       0.99      0.98      0.99       575\n",
      "\n",
      "   micro avg       0.98      0.98      0.98      3494\n",
      "   macro avg       0.97      0.96      0.96      3494\n",
      "weighted avg       0.98      0.98      0.98      3494\n",
      "\n"
     ]
    }
   ],
   "source": [
    "print(classification_report(b_test, rfc_pred))"
   ]
  },
  {
   "cell_type": "code",
   "execution_count": 86,
   "metadata": {},
   "outputs": [
    {
     "data": {
      "text/html": [
       "<div>\n",
       "<style scoped>\n",
       "    .dataframe tbody tr th:only-of-type {\n",
       "        vertical-align: middle;\n",
       "    }\n",
       "\n",
       "    .dataframe tbody tr th {\n",
       "        vertical-align: top;\n",
       "    }\n",
       "\n",
       "    .dataframe thead th {\n",
       "        text-align: right;\n",
       "    }\n",
       "</style>\n",
       "<table border=\"1\" class=\"dataframe\">\n",
       "  <thead>\n",
       "    <tr style=\"text-align: right;\">\n",
       "      <th></th>\n",
       "      <th>0</th>\n",
       "    </tr>\n",
       "  </thead>\n",
       "  <tbody>\n",
       "    <tr>\n",
       "      <th>Decision Tree</th>\n",
       "      <td>0.981683</td>\n",
       "    </tr>\n",
       "    <tr>\n",
       "      <th>Random Forest</th>\n",
       "      <td>0.975673</td>\n",
       "    </tr>\n",
       "    <tr>\n",
       "      <th>KNN</th>\n",
       "      <td>0.920149</td>\n",
       "    </tr>\n",
       "    <tr>\n",
       "      <th>SVM</th>\n",
       "      <td>0.517458</td>\n",
       "    </tr>\n",
       "    <tr>\n",
       "      <th>Logistic Regression</th>\n",
       "      <td>0.462221</td>\n",
       "    </tr>\n",
       "  </tbody>\n",
       "</table>\n",
       "</div>"
      ],
      "text/plain": [
       "                            0\n",
       "Decision Tree        0.981683\n",
       "Random Forest        0.975673\n",
       "KNN                  0.920149\n",
       "SVM                  0.517458\n",
       "Logistic Regression  0.462221"
      ]
     },
     "execution_count": 86,
     "metadata": {},
     "output_type": "execute_result"
    }
   ],
   "source": [
    "clf_List=['Decision Tree','Logistic Regression','KNN','SVM','Random Forest']\n",
    "normal_clf=pd.DataFrame(clf_arr,index=clf_List)\n",
    "normal_clf.sort_values(by=0,ascending=False)"
   ]
  },
  {
   "cell_type": "markdown",
   "metadata": {},
   "source": [
    "From this table we can easily compare that Decision tree gives and Random forest amost gives the same and the best results. KNN also performs good on our dataset. SVM and Logistic regression do not perform well and have accuracy 51% and 45% respectively."
   ]
  },
  {
   "cell_type": "markdown",
   "metadata": {},
   "source": [
    "# HYPERPARAMETERS AND FINE TUNING\n"
   ]
  },
  {
   "cell_type": "markdown",
   "metadata": {},
   "source": [
    "After performing and seeing the results of our models, its time to fine tune them to give even more accurate result."
   ]
  },
  {
   "cell_type": "markdown",
   "metadata": {},
   "source": [
    "# KFOLD CROSS VALIDATION\n",
    "Cross-validation, sometimes called rotation estimation or out-of-sample testing, is any of various similar model validation techniques for assessing how the results of a statistical analysis will generalize to an independent data set\n"
   ]
  },
  {
   "cell_type": "code",
   "execution_count": 87,
   "metadata": {},
   "outputs": [],
   "source": [
    "from sklearn.model_selection import cross_val_score"
   ]
  },
  {
   "cell_type": "markdown",
   "metadata": {},
   "source": [
    "Now we are going to find accuracy of all the models again with the help of Cross validation. We have repeated same steps so let's directly jump to the results."
   ]
  },
  {
   "cell_type": "code",
   "execution_count": 88,
   "metadata": {},
   "outputs": [
    {
     "name": "stdout",
     "output_type": "stream",
     "text": [
      "Mean:  0.9775485138039857\n",
      "Standard Deviation:  0.003087313221324171\n"
     ]
    }
   ],
   "source": [
    "scores = cross_val_score(estimator= DecisionTreeClassifier(criterion = 'entropy'), X=A_train, y=b_train, cv=10)\n",
    "print(\"Mean: \",scores.mean())\n",
    "print(\"Standard Deviation: \",scores.std())\n",
    "clf1_arr=array.array('f',)\n",
    "clf1_arr.append(scores.mean())"
   ]
  },
  {
   "cell_type": "code",
   "execution_count": 89,
   "metadata": {},
   "outputs": [
    {
     "name": "stdout",
     "output_type": "stream",
     "text": [
      "Mean:  0.4499500682166663\n",
      "Standard Deviation:  0.009345948704154382\n"
     ]
    }
   ],
   "source": [
    "scores = cross_val_score(estimator=LogisticRegression(), X=A_train, y=b_train, cv=10)\n",
    "print(\"Mean: \",scores.mean())\n",
    "print(\"Standard Deviation: \",scores.std())\n",
    "clf1_arr.append(scores.mean())"
   ]
  },
  {
   "cell_type": "code",
   "execution_count": 90,
   "metadata": {},
   "outputs": [
    {
     "name": "stdout",
     "output_type": "stream",
     "text": [
      "Mean:  0.9122702278664322\n",
      "Standard Deviation:  0.008486259105930838\n"
     ]
    }
   ],
   "source": [
    "scores = cross_val_score(estimator=KNeighborsClassifier(n_neighbors=5), X=A_train, y=b_train, cv=10)\n",
    "print(\"Mean: \",scores.mean())\n",
    "print(\"Standard Deviation: \",scores.std())\n",
    "clf1_arr.append(scores.mean())"
   ]
  },
  {
   "cell_type": "code",
   "execution_count": 91,
   "metadata": {},
   "outputs": [
    {
     "name": "stdout",
     "output_type": "stream",
     "text": [
      "Mean:  0.5041652853653575\n",
      "Standard Deviation:  0.009563235417336195\n"
     ]
    }
   ],
   "source": [
    "scores = cross_val_score(estimator= svm.SVC(), X=A_train, y=b_train, cv=10)\n",
    "print(\"Mean: \",scores.mean())\n",
    "print(\"Standard Deviation: \",scores.std())\n",
    "clf1_arr.append(scores.mean())"
   ]
  },
  {
   "cell_type": "code",
   "execution_count": 92,
   "metadata": {},
   "outputs": [
    {
     "name": "stdout",
     "output_type": "stream",
     "text": [
      "Mean:  0.9747288050405087\n",
      "Standard Deviation:  0.003581037019311359\n"
     ]
    }
   ],
   "source": [
    "scores = cross_val_score(estimator= RandomForestClassifier(), X=A_train, y=b_train, cv=10)\n",
    "print(\"Mean: \",scores.mean())\n",
    "print(\"Standard Deviation: \",scores.std())\n",
    "clf1_arr.append(scores.mean())"
   ]
  },
  {
   "cell_type": "code",
   "execution_count": 93,
   "metadata": {},
   "outputs": [
    {
     "data": {
      "text/html": [
       "<div>\n",
       "<style scoped>\n",
       "    .dataframe tbody tr th:only-of-type {\n",
       "        vertical-align: middle;\n",
       "    }\n",
       "\n",
       "    .dataframe tbody tr th {\n",
       "        vertical-align: top;\n",
       "    }\n",
       "\n",
       "    .dataframe thead th {\n",
       "        text-align: right;\n",
       "    }\n",
       "</style>\n",
       "<table border=\"1\" class=\"dataframe\">\n",
       "  <thead>\n",
       "    <tr style=\"text-align: right;\">\n",
       "      <th></th>\n",
       "      <th>0</th>\n",
       "    </tr>\n",
       "  </thead>\n",
       "  <tbody>\n",
       "    <tr>\n",
       "      <th>Decision Tree</th>\n",
       "      <td>0.977549</td>\n",
       "    </tr>\n",
       "    <tr>\n",
       "      <th>Random Forest</th>\n",
       "      <td>0.974729</td>\n",
       "    </tr>\n",
       "    <tr>\n",
       "      <th>KNN</th>\n",
       "      <td>0.912270</td>\n",
       "    </tr>\n",
       "    <tr>\n",
       "      <th>SVM</th>\n",
       "      <td>0.504165</td>\n",
       "    </tr>\n",
       "    <tr>\n",
       "      <th>Logistic Regression</th>\n",
       "      <td>0.449950</td>\n",
       "    </tr>\n",
       "  </tbody>\n",
       "</table>\n",
       "</div>"
      ],
      "text/plain": [
       "                            0\n",
       "Decision Tree        0.977549\n",
       "Random Forest        0.974729\n",
       "KNN                  0.912270\n",
       "SVM                  0.504165\n",
       "Logistic Regression  0.449950"
      ]
     },
     "execution_count": 93,
     "metadata": {},
     "output_type": "execute_result"
    }
   ],
   "source": [
    "\n",
    "Kfold=pd.DataFrame(clf1_arr,index=clf_List)\n",
    "Kfold.sort_values(by=0,ascending=False)\n"
   ]
  },
  {
   "cell_type": "markdown",
   "metadata": {},
   "source": [
    "We can see that the results we get are almost same as previous results. Hence cross validation does not able to increase our accuracy\n",
    "\n"
   ]
  },
  {
   "cell_type": "markdown",
   "metadata": {},
   "source": [
    "# GRID SEARCHCV \n",
    "Grid search is the process of performing hyper parameter tuning in order to determine the optimal values for a given model. This is significant as the performance of the entire model is based on the hyper parameter values specified."
   ]
  },
  {
   "cell_type": "markdown",
   "metadata": {},
   "source": [
    "# SVM USING GRID SEARCHCV "
   ]
  },
  {
   "cell_type": "code",
   "execution_count": 94,
   "metadata": {},
   "outputs": [],
   "source": [
    "from sklearn.model_selection import GridSearchCV"
   ]
  },
  {
   "cell_type": "code",
   "execution_count": 95,
   "metadata": {},
   "outputs": [
    {
     "data": {
      "text/plain": [
       "GridSearchCV(cv=5, error_score='raise-deprecating',\n",
       "       estimator=SVC(C=1.0, cache_size=200, class_weight=None, coef0=0.0,\n",
       "  decision_function_shape='ovr', degree=3, gamma='auto', kernel='rbf',\n",
       "  max_iter=-1, probability=True, random_state=None, shrinking=True,\n",
       "  tol=0.001, verbose=False),\n",
       "       fit_params=None, iid='warn', n_jobs=None,\n",
       "       param_grid={'C': [1, 5, 10], 'kernel': ['rbf']},\n",
       "       pre_dispatch='2*n_jobs', refit=True, return_train_score=False,\n",
       "       scoring=None, verbose=0)"
      ]
     },
     "execution_count": 95,
     "metadata": {},
     "output_type": "execute_result"
    }
   ],
   "source": [
    "svm_clf=GridSearchCV(estimator=svm.SVC(gamma=\"auto\",probability=True),param_grid={\n",
    "    'C':[1,5,10],\n",
    "    'kernel':['rbf']\n",
    "},cv=5,return_train_score=False)\n",
    "svm_clf.fit(A_train,b_train)"
   ]
  },
  {
   "cell_type": "code",
   "execution_count": 96,
   "metadata": {},
   "outputs": [],
   "source": [
    "svm_clf_df=pd.DataFrame(svm_clf.cv_results_)"
   ]
  },
  {
   "cell_type": "code",
   "execution_count": 97,
   "metadata": {},
   "outputs": [
    {
     "data": {
      "text/html": [
       "<div>\n",
       "<style scoped>\n",
       "    .dataframe tbody tr th:only-of-type {\n",
       "        vertical-align: middle;\n",
       "    }\n",
       "\n",
       "    .dataframe tbody tr th {\n",
       "        vertical-align: top;\n",
       "    }\n",
       "\n",
       "    .dataframe thead th {\n",
       "        text-align: right;\n",
       "    }\n",
       "</style>\n",
       "<table border=\"1\" class=\"dataframe\">\n",
       "  <thead>\n",
       "    <tr style=\"text-align: right;\">\n",
       "      <th></th>\n",
       "      <th>param_C</th>\n",
       "      <th>param_kernel</th>\n",
       "      <th>mean_test_score</th>\n",
       "    </tr>\n",
       "  </thead>\n",
       "  <tbody>\n",
       "    <tr>\n",
       "      <th>2</th>\n",
       "      <td>10</td>\n",
       "      <td>rbf</td>\n",
       "      <td>0.536687</td>\n",
       "    </tr>\n",
       "    <tr>\n",
       "      <th>1</th>\n",
       "      <td>5</td>\n",
       "      <td>rbf</td>\n",
       "      <td>0.527853</td>\n",
       "    </tr>\n",
       "    <tr>\n",
       "      <th>0</th>\n",
       "      <td>1</td>\n",
       "      <td>rbf</td>\n",
       "      <td>0.500982</td>\n",
       "    </tr>\n",
       "  </tbody>\n",
       "</table>\n",
       "</div>"
      ],
      "text/plain": [
       "  param_C param_kernel  mean_test_score\n",
       "2      10          rbf         0.536687\n",
       "1       5          rbf         0.527853\n",
       "0       1          rbf         0.500982"
      ]
     },
     "execution_count": 97,
     "metadata": {},
     "output_type": "execute_result"
    }
   ],
   "source": [
    "svm_clf_df[['param_C','param_kernel','mean_test_score']].sort_values(by='mean_test_score',ascending=False)"
   ]
  },
  {
   "cell_type": "markdown",
   "metadata": {},
   "source": [
    "These are the best values we get using grid searchcv on SVM model. The maximum mean_test_score we get is of 0.548 when C=10 and kernel is rbf"
   ]
  },
  {
   "cell_type": "code",
   "execution_count": 98,
   "metadata": {},
   "outputs": [
    {
     "name": "stdout",
     "output_type": "stream",
     "text": [
      "Accuracy:  0.5497996565540927\n"
     ]
    }
   ],
   "source": [
    "svm_clf_pred=svm_clf.predict(A_test)\n",
    "acc = accuracy_score(b_test, svm_clf_pred)\n",
    "print(\"Accuracy: \",acc)\n",
    "grid_arr=array.array('f',)\n",
    "grid_arr.append(accuracy_score(b_test, svm_clf_pred))"
   ]
  },
  {
   "cell_type": "markdown",
   "metadata": {},
   "source": [
    "The accuracy we get is almost same but their is increase of around 4% using grid searchcv"
   ]
  },
  {
   "cell_type": "markdown",
   "metadata": {},
   "source": [
    "#  KNN USING GRID SEARCHCV"
   ]
  },
  {
   "cell_type": "code",
   "execution_count": 99,
   "metadata": {},
   "outputs": [],
   "source": [
    "knn_clf=GridSearchCV(estimator=KNeighborsClassifier(),param_grid={\n",
    "    \"n_neighbors\":[5,11],\n",
    "    \"metric\":['euclidean','manhattan'],'weights':['uniform','distance']\n",
    "},cv=5,return_train_score=False)"
   ]
  },
  {
   "cell_type": "code",
   "execution_count": 100,
   "metadata": {},
   "outputs": [
    {
     "data": {
      "text/plain": [
       "GridSearchCV(cv=5, error_score='raise-deprecating',\n",
       "       estimator=KNeighborsClassifier(algorithm='auto', leaf_size=30, metric='minkowski',\n",
       "           metric_params=None, n_jobs=None, n_neighbors=5, p=2,\n",
       "           weights='uniform'),\n",
       "       fit_params=None, iid='warn', n_jobs=None,\n",
       "       param_grid={'n_neighbors': [5, 11], 'metric': ['euclidean', 'manhattan'], 'weights': ['uniform', 'distance']},\n",
       "       pre_dispatch='2*n_jobs', refit=True, return_train_score=False,\n",
       "       scoring=None, verbose=0)"
      ]
     },
     "execution_count": 100,
     "metadata": {},
     "output_type": "execute_result"
    }
   ],
   "source": [
    "knn_clf.fit(A_train,b_train)"
   ]
  },
  {
   "cell_type": "code",
   "execution_count": 101,
   "metadata": {},
   "outputs": [],
   "source": [
    "knn_clf_df=pd.DataFrame(knn_clf.cv_results_)"
   ]
  },
  {
   "cell_type": "code",
   "execution_count": 102,
   "metadata": {},
   "outputs": [
    {
     "data": {
      "text/html": [
       "<div>\n",
       "<style scoped>\n",
       "    .dataframe tbody tr th:only-of-type {\n",
       "        vertical-align: middle;\n",
       "    }\n",
       "\n",
       "    .dataframe tbody tr th {\n",
       "        vertical-align: top;\n",
       "    }\n",
       "\n",
       "    .dataframe thead th {\n",
       "        text-align: right;\n",
       "    }\n",
       "</style>\n",
       "<table border=\"1\" class=\"dataframe\">\n",
       "  <thead>\n",
       "    <tr style=\"text-align: right;\">\n",
       "      <th></th>\n",
       "      <th>param_n_neighbors</th>\n",
       "      <th>param_metric</th>\n",
       "      <th>param_weights</th>\n",
       "      <th>mean_test_score</th>\n",
       "    </tr>\n",
       "  </thead>\n",
       "  <tbody>\n",
       "    <tr>\n",
       "      <th>5</th>\n",
       "      <td>5</td>\n",
       "      <td>manhattan</td>\n",
       "      <td>distance</td>\n",
       "      <td>0.921104</td>\n",
       "    </tr>\n",
       "    <tr>\n",
       "      <th>7</th>\n",
       "      <td>11</td>\n",
       "      <td>manhattan</td>\n",
       "      <td>distance</td>\n",
       "      <td>0.919877</td>\n",
       "    </tr>\n",
       "    <tr>\n",
       "      <th>4</th>\n",
       "      <td>5</td>\n",
       "      <td>manhattan</td>\n",
       "      <td>uniform</td>\n",
       "      <td>0.915951</td>\n",
       "    </tr>\n",
       "    <tr>\n",
       "      <th>1</th>\n",
       "      <td>5</td>\n",
       "      <td>euclidean</td>\n",
       "      <td>distance</td>\n",
       "      <td>0.915215</td>\n",
       "    </tr>\n",
       "    <tr>\n",
       "      <th>6</th>\n",
       "      <td>11</td>\n",
       "      <td>manhattan</td>\n",
       "      <td>uniform</td>\n",
       "      <td>0.911534</td>\n",
       "    </tr>\n",
       "    <tr>\n",
       "      <th>3</th>\n",
       "      <td>11</td>\n",
       "      <td>euclidean</td>\n",
       "      <td>distance</td>\n",
       "      <td>0.910429</td>\n",
       "    </tr>\n",
       "    <tr>\n",
       "      <th>0</th>\n",
       "      <td>5</td>\n",
       "      <td>euclidean</td>\n",
       "      <td>uniform</td>\n",
       "      <td>0.909080</td>\n",
       "    </tr>\n",
       "    <tr>\n",
       "      <th>2</th>\n",
       "      <td>11</td>\n",
       "      <td>euclidean</td>\n",
       "      <td>uniform</td>\n",
       "      <td>0.902209</td>\n",
       "    </tr>\n",
       "  </tbody>\n",
       "</table>\n",
       "</div>"
      ],
      "text/plain": [
       "  param_n_neighbors param_metric param_weights  mean_test_score\n",
       "5                 5    manhattan      distance         0.921104\n",
       "7                11    manhattan      distance         0.919877\n",
       "4                 5    manhattan       uniform         0.915951\n",
       "1                 5    euclidean      distance         0.915215\n",
       "6                11    manhattan       uniform         0.911534\n",
       "3                11    euclidean      distance         0.910429\n",
       "0                 5    euclidean       uniform         0.909080\n",
       "2                11    euclidean       uniform         0.902209"
      ]
     },
     "execution_count": 102,
     "metadata": {},
     "output_type": "execute_result"
    }
   ],
   "source": [
    "knn_clf_df[['param_n_neighbors','param_metric','param_weights','mean_test_score']].sort_values(by='mean_test_score',ascending=False)"
   ]
  },
  {
   "cell_type": "markdown",
   "metadata": {},
   "source": [
    "The best mean_test_score we get is 0.92 when the grids are:\n",
    "neighbors=5,\n",
    "metric=manhattan and\n",
    "weights=distance"
   ]
  },
  {
   "cell_type": "code",
   "execution_count": 103,
   "metadata": {},
   "outputs": [
    {
     "name": "stdout",
     "output_type": "stream",
     "text": [
      "Accuracy:  0.9321694333142531\n"
     ]
    }
   ],
   "source": [
    "knn_clf_pred=knn_clf.predict(A_test)\n",
    "acc = accuracy_score(b_test, knn_clf_pred)\n",
    "print(\"Accuracy: \",acc)\n",
    "grid_arr.append(accuracy_score(b_test, knn_clf_pred))"
   ]
  },
  {
   "cell_type": "markdown",
   "metadata": {},
   "source": [
    "we get 92% accuracy which is good for our model"
   ]
  },
  {
   "cell_type": "markdown",
   "metadata": {},
   "source": [
    "# RANDOM FOREST USING GRID SEARCHCV"
   ]
  },
  {
   "cell_type": "code",
   "execution_count": 104,
   "metadata": {},
   "outputs": [],
   "source": [
    "rf_clf= GridSearchCV(estimator=RandomForestClassifier(),param_grid={\n",
    "   \"n_estimators\" :[200,700],\n",
    "    \"max_features\" : ['auto','sqrt','log2']\n",
    "},cv=5,return_train_score=False)"
   ]
  },
  {
   "cell_type": "code",
   "execution_count": 105,
   "metadata": {},
   "outputs": [
    {
     "data": {
      "text/plain": [
       "GridSearchCV(cv=5, error_score='raise-deprecating',\n",
       "       estimator=RandomForestClassifier(bootstrap=True, class_weight=None, criterion='gini',\n",
       "            max_depth=None, max_features='auto', max_leaf_nodes=None,\n",
       "            min_impurity_decrease=0.0, min_impurity_split=None,\n",
       "            min_samples_leaf=1, min_samples_split=2,\n",
       "            min_weight_fraction_leaf=0.0, n_estimators='warn', n_jobs=None,\n",
       "            oob_score=False, random_state=None, verbose=0,\n",
       "            warm_start=False),\n",
       "       fit_params=None, iid='warn', n_jobs=None,\n",
       "       param_grid={'n_estimators': [200, 700], 'max_features': ['auto', 'sqrt', 'log2']},\n",
       "       pre_dispatch='2*n_jobs', refit=True, return_train_score=False,\n",
       "       scoring=None, verbose=0)"
      ]
     },
     "execution_count": 105,
     "metadata": {},
     "output_type": "execute_result"
    }
   ],
   "source": [
    "rf_clf.fit(A_train,b_train)"
   ]
  },
  {
   "cell_type": "code",
   "execution_count": 106,
   "metadata": {},
   "outputs": [],
   "source": [
    "rf_clf_df=pd.DataFrame(rf_clf.cv_results_)"
   ]
  },
  {
   "cell_type": "code",
   "execution_count": 107,
   "metadata": {},
   "outputs": [
    {
     "data": {
      "text/html": [
       "<div>\n",
       "<style scoped>\n",
       "    .dataframe tbody tr th:only-of-type {\n",
       "        vertical-align: middle;\n",
       "    }\n",
       "\n",
       "    .dataframe tbody tr th {\n",
       "        vertical-align: top;\n",
       "    }\n",
       "\n",
       "    .dataframe thead th {\n",
       "        text-align: right;\n",
       "    }\n",
       "</style>\n",
       "<table border=\"1\" class=\"dataframe\">\n",
       "  <thead>\n",
       "    <tr style=\"text-align: right;\">\n",
       "      <th></th>\n",
       "      <th>param_n_estimators</th>\n",
       "      <th>param_max_features</th>\n",
       "      <th>mean_test_score</th>\n",
       "    </tr>\n",
       "  </thead>\n",
       "  <tbody>\n",
       "    <tr>\n",
       "      <th>0</th>\n",
       "      <td>200</td>\n",
       "      <td>auto</td>\n",
       "      <td>0.977178</td>\n",
       "    </tr>\n",
       "    <tr>\n",
       "      <th>4</th>\n",
       "      <td>200</td>\n",
       "      <td>log2</td>\n",
       "      <td>0.976933</td>\n",
       "    </tr>\n",
       "    <tr>\n",
       "      <th>5</th>\n",
       "      <td>700</td>\n",
       "      <td>log2</td>\n",
       "      <td>0.976564</td>\n",
       "    </tr>\n",
       "    <tr>\n",
       "      <th>1</th>\n",
       "      <td>700</td>\n",
       "      <td>auto</td>\n",
       "      <td>0.976319</td>\n",
       "    </tr>\n",
       "    <tr>\n",
       "      <th>3</th>\n",
       "      <td>700</td>\n",
       "      <td>sqrt</td>\n",
       "      <td>0.976319</td>\n",
       "    </tr>\n",
       "    <tr>\n",
       "      <th>2</th>\n",
       "      <td>200</td>\n",
       "      <td>sqrt</td>\n",
       "      <td>0.975460</td>\n",
       "    </tr>\n",
       "  </tbody>\n",
       "</table>\n",
       "</div>"
      ],
      "text/plain": [
       "  param_n_estimators param_max_features  mean_test_score\n",
       "0                200               auto         0.977178\n",
       "4                200               log2         0.976933\n",
       "5                700               log2         0.976564\n",
       "1                700               auto         0.976319\n",
       "3                700               sqrt         0.976319\n",
       "2                200               sqrt         0.975460"
      ]
     },
     "execution_count": 107,
     "metadata": {},
     "output_type": "execute_result"
    }
   ],
   "source": [
    "rf_clf_df[['param_n_estimators','param_max_features','mean_test_score']].sort_values(by='mean_test_score',ascending=False)"
   ]
  },
  {
   "cell_type": "markdown",
   "metadata": {},
   "source": [
    "We get the best mean_test_score out of all our models in random forest. We get 0.978 when n_estimators=200 and max_features are set at auto"
   ]
  },
  {
   "cell_type": "code",
   "execution_count": 108,
   "metadata": {},
   "outputs": [],
   "source": [
    "rf_clf_pred=rf_clf.predict(A_test)"
   ]
  },
  {
   "cell_type": "code",
   "execution_count": 109,
   "metadata": {},
   "outputs": [
    {
     "name": "stdout",
     "output_type": "stream",
     "text": [
      "Accuracy:  0.9793932455638237\n"
     ]
    }
   ],
   "source": [
    "acc = accuracy_score(b_test, rf_clf_pred)\n",
    "print(\"Accuracy: \",acc)\n",
    "grid_arr.append(accuracy_score(b_test, rf_clf_pred))"
   ]
  },
  {
   "cell_type": "markdown",
   "metadata": {},
   "source": [
    "We get the accuracy of 98%. It may be start overfitting our data."
   ]
  },
  {
   "cell_type": "code",
   "execution_count": 110,
   "metadata": {},
   "outputs": [
    {
     "data": {
      "text/html": [
       "<div>\n",
       "<style scoped>\n",
       "    .dataframe tbody tr th:only-of-type {\n",
       "        vertical-align: middle;\n",
       "    }\n",
       "\n",
       "    .dataframe tbody tr th {\n",
       "        vertical-align: top;\n",
       "    }\n",
       "\n",
       "    .dataframe thead th {\n",
       "        text-align: right;\n",
       "    }\n",
       "</style>\n",
       "<table border=\"1\" class=\"dataframe\">\n",
       "  <thead>\n",
       "    <tr style=\"text-align: right;\">\n",
       "      <th></th>\n",
       "      <th>0</th>\n",
       "    </tr>\n",
       "  </thead>\n",
       "  <tbody>\n",
       "    <tr>\n",
       "      <th>Random Forest</th>\n",
       "      <td>0.979393</td>\n",
       "    </tr>\n",
       "    <tr>\n",
       "      <th>KNN</th>\n",
       "      <td>0.932169</td>\n",
       "    </tr>\n",
       "    <tr>\n",
       "      <th>SVM</th>\n",
       "      <td>0.549800</td>\n",
       "    </tr>\n",
       "  </tbody>\n",
       "</table>\n",
       "</div>"
      ],
      "text/plain": [
       "                      0\n",
       "Random Forest  0.979393\n",
       "KNN            0.932169\n",
       "SVM            0.549800"
      ]
     },
     "execution_count": 110,
     "metadata": {},
     "output_type": "execute_result"
    }
   ],
   "source": [
    "grid_List=['SVM','KNN','Random Forest']\n",
    "grid_df=pd.DataFrame(grid_arr,index=grid_List)\n",
    "grid_df.sort_values(by=0,ascending=False)"
   ]
  },
  {
   "cell_type": "markdown",
   "metadata": {},
   "source": [
    "These are the accuracies which we had get above. Random forest is giving us the best accuracy of 98%."
   ]
  },
  {
   "cell_type": "markdown",
   "metadata": {},
   "source": [
    "# VOTING CLASSIFIER\n",
    "A Voting Classifier is a machine learning model that trains on an ensemble of numerous models and predicts an output (class) based on their highest probability of chosen class as the output.It is of two types hard voting and soft voting"
   ]
  },
  {
   "cell_type": "code",
   "execution_count": 111,
   "metadata": {},
   "outputs": [],
   "source": [
    "from sklearn.ensemble import VotingClassifier"
   ]
  },
  {
   "cell_type": "markdown",
   "metadata": {},
   "source": [
    "# SVM"
   ]
  },
  {
   "cell_type": "markdown",
   "metadata": {},
   "source": [
    "## Hard Voting\n",
    "In hard voting, the predicted output class is a class with the highest majority of votes i.e the class which had the highest probability of being predicted by each of the classifiers. Suppose three classifiers predicted the output class(A, A, B), so here the majority predicted A as output. Hence A will be the final prediction.\n"
   ]
  },
  {
   "cell_type": "code",
   "execution_count": 112,
   "metadata": {},
   "outputs": [],
   "source": [
    "svm_voting_clf_hard= VotingClassifier(estimators=[('svm',svm_clf)],voting='hard')"
   ]
  },
  {
   "cell_type": "code",
   "execution_count": 113,
   "metadata": {},
   "outputs": [
    {
     "data": {
      "text/plain": [
       "VotingClassifier(estimators=[('svm', GridSearchCV(cv=5, error_score='raise-deprecating',\n",
       "       estimator=SVC(C=1.0, cache_size=200, class_weight=None, coef0=0.0,\n",
       "  decision_function_shape='ovr', degree=3, gamma='auto', kernel='rbf',\n",
       "  max_iter=-1, probability=True, random_state=None, shrinking=True,\n",
       "  tol=0.001, ve...    pre_dispatch='2*n_jobs', refit=True, return_train_score=False,\n",
       "       scoring=None, verbose=0))],\n",
       "         flatten_transform=None, n_jobs=None, voting='hard', weights=None)"
      ]
     },
     "execution_count": 113,
     "metadata": {},
     "output_type": "execute_result"
    }
   ],
   "source": [
    "svm_voting_clf_hard.fit(A_train,b_train)"
   ]
  },
  {
   "cell_type": "code",
   "execution_count": 114,
   "metadata": {},
   "outputs": [],
   "source": [
    "svm_voting_clf_hard_pred=svm_voting_clf_hard.predict(A_test)"
   ]
  },
  {
   "cell_type": "code",
   "execution_count": 115,
   "metadata": {},
   "outputs": [
    {
     "data": {
      "text/plain": [
       "array([[604,  12,   0,   0,   0,   0,   0,   0,   0,   0],\n",
       "       [ 23, 115,   0,   0,   0,   0,   1,   0,   0,   0],\n",
       "       [  3,   0,   0,   0,   0,   0,   7,   0,   0,   0],\n",
       "       [  0,   0,   0,   1,   4,   0,  44,  12,   0,  69],\n",
       "       [  0,   0,   0,   0, 103,   0,  47,   2,   0,   6],\n",
       "       [  0,   0,   0,   3,   3, 165, 184,   3,   0,   0],\n",
       "       [  0,   0,   0,   0,   0,   0, 631,   0,   4,   0],\n",
       "       [  0,   0,   0,   0,   5,   0, 358,   3,   1,  94],\n",
       "       [  0,   0,   0,   0,   0,   0, 285,   0, 127,   0],\n",
       "       [  0,   0,   0,   1,   3,   0, 397,   2,   0, 172]], dtype=int64)"
      ]
     },
     "execution_count": 115,
     "metadata": {},
     "output_type": "execute_result"
    }
   ],
   "source": [
    "cm=confusion_matrix(b_test,svm_voting_clf_hard_pred)\n",
    "cm"
   ]
  },
  {
   "cell_type": "code",
   "execution_count": 116,
   "metadata": {},
   "outputs": [
    {
     "name": "stdout",
     "output_type": "stream",
     "text": [
      "Accuracy:  0.5497996565540927\n"
     ]
    }
   ],
   "source": [
    "acc = accuracy_score(b_test, svm_voting_clf_hard_pred)\n",
    "print(\"Accuracy: \",acc)\n",
    "voting_arr=array.array('f',)\n",
    "voting_arr.append(accuracy_score(b_test, svm_voting_clf_hard_pred))"
   ]
  },
  {
   "cell_type": "markdown",
   "metadata": {},
   "source": [
    "Using hard voting we get almost same results as we are getting earlier using SVM."
   ]
  },
  {
   "cell_type": "code",
   "execution_count": 117,
   "metadata": {},
   "outputs": [
    {
     "name": "stdout",
     "output_type": "stream",
     "text": [
      "              precision    recall  f1-score   support\n",
      "\n",
      "     Bitcoin       0.96      0.98      0.97       616\n",
      "Bitcoin Cash       0.91      0.83      0.86       139\n",
      "  Bitcoin SV       0.00      0.00      0.00        10\n",
      "     Cardano       0.20      0.01      0.01       130\n",
      "         EOS       0.87      0.65      0.75       158\n",
      "    Ethereum       1.00      0.46      0.63       358\n",
      "    Litecoin       0.32      0.99      0.49       635\n",
      "     Stellar       0.14      0.01      0.01       461\n",
      "      Tether       0.96      0.31      0.47       412\n",
      "         XRP       0.50      0.30      0.38       575\n",
      "\n",
      "   micro avg       0.55      0.55      0.55      3494\n",
      "   macro avg       0.59      0.45      0.46      3494\n",
      "weighted avg       0.63      0.55      0.51      3494\n",
      "\n"
     ]
    }
   ],
   "source": [
    "print(classification_report(b_test, svm_voting_clf_hard_pred))"
   ]
  },
  {
   "cell_type": "markdown",
   "metadata": {},
   "source": [
    "This is the classification report of our model which tells precision, recall and f1 score"
   ]
  },
  {
   "cell_type": "markdown",
   "metadata": {},
   "source": [
    "## SOFT VOTING\n",
    "In soft voting, the output class is the prediction based on the average of probability given to that class. Suppose given some input to three models, the prediction probability for class A = (0.30, 0.47, 0.53) and B = (0.20, 0.32, 0.40). So the average for class A is 0.4333 and B is 0.3067, the winner is clearly class A because it had the highest probability averaged by each classifier."
   ]
  },
  {
   "cell_type": "code",
   "execution_count": 118,
   "metadata": {},
   "outputs": [],
   "source": [
    "svm_voting_clf_soft= VotingClassifier(estimators=[('svm',svm_clf)],voting='soft')"
   ]
  },
  {
   "cell_type": "code",
   "execution_count": 119,
   "metadata": {},
   "outputs": [
    {
     "data": {
      "text/plain": [
       "VotingClassifier(estimators=[('svm', GridSearchCV(cv=5, error_score='raise-deprecating',\n",
       "       estimator=SVC(C=1.0, cache_size=200, class_weight=None, coef0=0.0,\n",
       "  decision_function_shape='ovr', degree=3, gamma='auto', kernel='rbf',\n",
       "  max_iter=-1, probability=True, random_state=None, shrinking=True,\n",
       "  tol=0.001, ve...    pre_dispatch='2*n_jobs', refit=True, return_train_score=False,\n",
       "       scoring=None, verbose=0))],\n",
       "         flatten_transform=None, n_jobs=None, voting='soft', weights=None)"
      ]
     },
     "execution_count": 119,
     "metadata": {},
     "output_type": "execute_result"
    }
   ],
   "source": [
    "svm_voting_clf_soft.fit(A_train,b_train)"
   ]
  },
  {
   "cell_type": "code",
   "execution_count": 120,
   "metadata": {},
   "outputs": [],
   "source": [
    "svm_voting_clf_soft_pred=svm_voting_clf_soft.predict(A_test)"
   ]
  },
  {
   "cell_type": "code",
   "execution_count": 121,
   "metadata": {},
   "outputs": [
    {
     "data": {
      "text/plain": [
       "array([[604,  12,   0,   0,   0,   0,   0,   0,   0,   0],\n",
       "       [ 25, 113,   1,   0,   0,   0,   0,   0,   0,   0],\n",
       "       [  4,   0,   4,   0,   0,   0,   2,   0,   0,   0],\n",
       "       [  0,   0,   0,   2,   3,   0,   0,  32,   1,  92],\n",
       "       [  0,   0,   0,   6, 108,   1,   3,  12,   2,  26],\n",
       "       [  0,   0,   0,   5,   4, 282,   8,   0,   0,  59],\n",
       "       [  0,   0,   0,   0,  10,  17, 597,   0,   4,   7],\n",
       "       [  0,   0,   0,   0,   8,   0,   1,  31, 288, 133],\n",
       "       [  0,   0,   0,   0,   0,   0, 169,   0, 243,   0],\n",
       "       [  0,   0,   0,   7,   5,   2,   0,   4,   1, 556]], dtype=int64)"
      ]
     },
     "execution_count": 121,
     "metadata": {},
     "output_type": "execute_result"
    }
   ],
   "source": [
    "cm=confusion_matrix(b_test,svm_voting_clf_soft_pred)\n",
    "cm"
   ]
  },
  {
   "cell_type": "code",
   "execution_count": 122,
   "metadata": {},
   "outputs": [
    {
     "name": "stdout",
     "output_type": "stream",
     "text": [
      "Accuracy:  0.726960503720664\n"
     ]
    }
   ],
   "source": [
    "acc = accuracy_score(b_test, svm_voting_clf_soft_pred)\n",
    "print(\"Accuracy: \",acc)\n",
    "\n",
    "voting_arr.append(accuracy_score(b_test, svm_voting_clf_soft_pred))"
   ]
  },
  {
   "cell_type": "markdown",
   "metadata": {},
   "source": [
    "We can observe that in soft voting, the accuracy of the SVM model increases gradually. It was around 50-55% earlier but with the help of soft voting, accuracy rise upto 78%"
   ]
  },
  {
   "cell_type": "code",
   "execution_count": 123,
   "metadata": {},
   "outputs": [
    {
     "name": "stdout",
     "output_type": "stream",
     "text": [
      "              precision    recall  f1-score   support\n",
      "\n",
      "     Bitcoin       0.95      0.98      0.97       616\n",
      "Bitcoin Cash       0.90      0.81      0.86       139\n",
      "  Bitcoin SV       0.80      0.40      0.53        10\n",
      "     Cardano       0.10      0.02      0.03       130\n",
      "         EOS       0.78      0.68      0.73       158\n",
      "    Ethereum       0.93      0.79      0.85       358\n",
      "    Litecoin       0.77      0.94      0.84       635\n",
      "     Stellar       0.39      0.07      0.11       461\n",
      "      Tether       0.45      0.59      0.51       412\n",
      "         XRP       0.64      0.97      0.77       575\n",
      "\n",
      "   micro avg       0.73      0.73      0.73      3494\n",
      "   macro avg       0.67      0.62      0.62      3494\n",
      "weighted avg       0.69      0.73      0.68      3494\n",
      "\n"
     ]
    }
   ],
   "source": [
    "print(classification_report(b_test, svm_voting_clf_soft_pred))"
   ]
  },
  {
   "cell_type": "markdown",
   "metadata": {},
   "source": [
    "# KNN "
   ]
  },
  {
   "cell_type": "markdown",
   "metadata": {},
   "source": [
    "## HARD VOTING"
   ]
  },
  {
   "cell_type": "code",
   "execution_count": 124,
   "metadata": {},
   "outputs": [],
   "source": [
    "knn_voting_clf_hard= VotingClassifier(estimators=[('knn',knn_clf)],voting='hard')"
   ]
  },
  {
   "cell_type": "code",
   "execution_count": 125,
   "metadata": {},
   "outputs": [
    {
     "data": {
      "text/plain": [
       "VotingClassifier(estimators=[('knn', GridSearchCV(cv=5, error_score='raise-deprecating',\n",
       "       estimator=KNeighborsClassifier(algorithm='auto', leaf_size=30, metric='minkowski',\n",
       "           metric_params=None, n_jobs=None, n_neighbors=5, p=2,\n",
       "           weights='uniform'),\n",
       "       fit_params=None, iid='warn', n_jobs=...    pre_dispatch='2*n_jobs', refit=True, return_train_score=False,\n",
       "       scoring=None, verbose=0))],\n",
       "         flatten_transform=None, n_jobs=None, voting='hard', weights=None)"
      ]
     },
     "execution_count": 125,
     "metadata": {},
     "output_type": "execute_result"
    }
   ],
   "source": [
    "knn_voting_clf_hard.fit(A_train,b_train)"
   ]
  },
  {
   "cell_type": "code",
   "execution_count": 126,
   "metadata": {},
   "outputs": [],
   "source": [
    "knn_voting_clf_hard_pred=knn_voting_clf_hard.predict(A_test)"
   ]
  },
  {
   "cell_type": "code",
   "execution_count": 127,
   "metadata": {},
   "outputs": [],
   "source": [
    "cm=confusion_matrix(b_test,knn_voting_clf_hard_pred)"
   ]
  },
  {
   "cell_type": "code",
   "execution_count": 128,
   "metadata": {},
   "outputs": [
    {
     "data": {
      "text/plain": [
       "array([[598,  18,   0,   0,   0,   0,   0,   0,   0,   0],\n",
       "       [ 10, 127,   0,   0,   0,   0,   2,   0,   0,   0],\n",
       "       [  0,   0,   7,   0,   0,   0,   0,   0,   3,   0],\n",
       "       [  0,   0,   0,  69,   6,   0,   0,  27,   1,  27],\n",
       "       [  0,   0,   0,   5, 140,   2,   0,   3,   6,   2],\n",
       "       [  0,   0,   0,   0,   2, 341,  13,   0,   0,   2],\n",
       "       [  0,   0,   0,   0,   6,   5, 617,   0,   7,   0],\n",
       "       [  0,   0,   0,  13,   8,   0,   2, 412,   4,  22],\n",
       "       [  0,   0,   0,   0,   0,   0,   0,   0, 412,   0],\n",
       "       [  0,   0,   0,  16,   4,   6,   0,  15,   0, 534]], dtype=int64)"
      ]
     },
     "execution_count": 128,
     "metadata": {},
     "output_type": "execute_result"
    }
   ],
   "source": [
    "cm"
   ]
  },
  {
   "cell_type": "code",
   "execution_count": 129,
   "metadata": {},
   "outputs": [
    {
     "name": "stdout",
     "output_type": "stream",
     "text": [
      "Accuracy:  0.9321694333142531\n"
     ]
    }
   ],
   "source": [
    "acc = accuracy_score(b_test, knn_voting_clf_hard_pred)\n",
    "print(\"Accuracy: \",acc)\n",
    "\n",
    "voting_arr.append(accuracy_score(b_test, knn_voting_clf_hard_pred))"
   ]
  },
  {
   "cell_type": "markdown",
   "metadata": {},
   "source": [
    "Using hard voting on KNN does not effect much. We still get the same results as before."
   ]
  },
  {
   "cell_type": "code",
   "execution_count": 130,
   "metadata": {},
   "outputs": [
    {
     "name": "stdout",
     "output_type": "stream",
     "text": [
      "              precision    recall  f1-score   support\n",
      "\n",
      "     Bitcoin       0.98      0.97      0.98       616\n",
      "Bitcoin Cash       0.88      0.91      0.89       139\n",
      "  Bitcoin SV       1.00      0.70      0.82        10\n",
      "     Cardano       0.67      0.53      0.59       130\n",
      "         EOS       0.84      0.89      0.86       158\n",
      "    Ethereum       0.96      0.95      0.96       358\n",
      "    Litecoin       0.97      0.97      0.97       635\n",
      "     Stellar       0.90      0.89      0.90       461\n",
      "      Tether       0.95      1.00      0.98       412\n",
      "         XRP       0.91      0.93      0.92       575\n",
      "\n",
      "   micro avg       0.93      0.93      0.93      3494\n",
      "   macro avg       0.91      0.87      0.89      3494\n",
      "weighted avg       0.93      0.93      0.93      3494\n",
      "\n"
     ]
    }
   ],
   "source": [
    "print(classification_report(b_test, knn_voting_clf_hard_pred))"
   ]
  },
  {
   "cell_type": "markdown",
   "metadata": {},
   "source": [
    "## SOFT VOTING"
   ]
  },
  {
   "cell_type": "code",
   "execution_count": 131,
   "metadata": {},
   "outputs": [],
   "source": [
    "knn_voting_clf_soft= VotingClassifier(estimators=[('knn',knn_clf)],voting='soft')"
   ]
  },
  {
   "cell_type": "code",
   "execution_count": 132,
   "metadata": {},
   "outputs": [
    {
     "data": {
      "text/plain": [
       "VotingClassifier(estimators=[('knn', GridSearchCV(cv=5, error_score='raise-deprecating',\n",
       "       estimator=KNeighborsClassifier(algorithm='auto', leaf_size=30, metric='minkowski',\n",
       "           metric_params=None, n_jobs=None, n_neighbors=5, p=2,\n",
       "           weights='uniform'),\n",
       "       fit_params=None, iid='warn', n_jobs=...    pre_dispatch='2*n_jobs', refit=True, return_train_score=False,\n",
       "       scoring=None, verbose=0))],\n",
       "         flatten_transform=None, n_jobs=None, voting='soft', weights=None)"
      ]
     },
     "execution_count": 132,
     "metadata": {},
     "output_type": "execute_result"
    }
   ],
   "source": [
    "knn_voting_clf_soft.fit(A_train,b_train)"
   ]
  },
  {
   "cell_type": "code",
   "execution_count": 133,
   "metadata": {},
   "outputs": [],
   "source": [
    "knn_voting_clf_soft_pred=knn_voting_clf_soft.predict(A_test)"
   ]
  },
  {
   "cell_type": "code",
   "execution_count": 134,
   "metadata": {},
   "outputs": [],
   "source": [
    "cm=confusion_matrix(b_test,knn_voting_clf_soft_pred)"
   ]
  },
  {
   "cell_type": "code",
   "execution_count": 135,
   "metadata": {},
   "outputs": [
    {
     "data": {
      "text/plain": [
       "array([[598,  18,   0,   0,   0,   0,   0,   0,   0,   0],\n",
       "       [ 10, 127,   0,   0,   0,   0,   2,   0,   0,   0],\n",
       "       [  0,   0,   7,   0,   0,   0,   0,   0,   3,   0],\n",
       "       [  0,   0,   0,  69,   6,   0,   0,  27,   1,  27],\n",
       "       [  0,   0,   0,   5, 140,   2,   0,   3,   6,   2],\n",
       "       [  0,   0,   0,   0,   2, 341,  13,   0,   0,   2],\n",
       "       [  0,   0,   0,   0,   6,   5, 617,   0,   7,   0],\n",
       "       [  0,   0,   0,  13,   8,   0,   2, 412,   4,  22],\n",
       "       [  0,   0,   0,   0,   0,   0,   0,   0, 412,   0],\n",
       "       [  0,   0,   0,  16,   4,   6,   0,  15,   0, 534]], dtype=int64)"
      ]
     },
     "execution_count": 135,
     "metadata": {},
     "output_type": "execute_result"
    }
   ],
   "source": [
    "cm\n"
   ]
  },
  {
   "cell_type": "code",
   "execution_count": 136,
   "metadata": {},
   "outputs": [
    {
     "name": "stdout",
     "output_type": "stream",
     "text": [
      "Accuracy:  0.9321694333142531\n"
     ]
    }
   ],
   "source": [
    "acc = accuracy_score(b_test, knn_voting_clf_soft_pred)\n",
    "print(\"Accuracy: \",acc)\n",
    "voting_arr.append(accuracy_score(b_test, knn_voting_clf_soft_pred))"
   ]
  },
  {
   "cell_type": "markdown",
   "metadata": {},
   "source": [
    "Again we get the same reesults as before."
   ]
  },
  {
   "cell_type": "code",
   "execution_count": 137,
   "metadata": {},
   "outputs": [
    {
     "name": "stdout",
     "output_type": "stream",
     "text": [
      "              precision    recall  f1-score   support\n",
      "\n",
      "     Bitcoin       0.98      0.97      0.98       616\n",
      "Bitcoin Cash       0.88      0.91      0.89       139\n",
      "  Bitcoin SV       1.00      0.70      0.82        10\n",
      "     Cardano       0.67      0.53      0.59       130\n",
      "         EOS       0.84      0.89      0.86       158\n",
      "    Ethereum       0.96      0.95      0.96       358\n",
      "    Litecoin       0.97      0.97      0.97       635\n",
      "     Stellar       0.90      0.89      0.90       461\n",
      "      Tether       0.95      1.00      0.98       412\n",
      "         XRP       0.91      0.93      0.92       575\n",
      "\n",
      "   micro avg       0.93      0.93      0.93      3494\n",
      "   macro avg       0.91      0.87      0.89      3494\n",
      "weighted avg       0.93      0.93      0.93      3494\n",
      "\n"
     ]
    }
   ],
   "source": [
    "print(classification_report(b_test, knn_voting_clf_soft_pred))"
   ]
  },
  {
   "cell_type": "markdown",
   "metadata": {},
   "source": [
    "# RANDOM FOREST\n",
    "## HARD VOTING"
   ]
  },
  {
   "cell_type": "code",
   "execution_count": 138,
   "metadata": {},
   "outputs": [],
   "source": [
    "rf_voting_clf_hard=VotingClassifier(estimators=[('rf',rf_clf)],voting='hard')"
   ]
  },
  {
   "cell_type": "code",
   "execution_count": 139,
   "metadata": {},
   "outputs": [
    {
     "data": {
      "text/plain": [
       "VotingClassifier(estimators=[('rf', GridSearchCV(cv=5, error_score='raise-deprecating',\n",
       "       estimator=RandomForestClassifier(bootstrap=True, class_weight=None, criterion='gini',\n",
       "            max_depth=None, max_features='auto', max_leaf_nodes=None,\n",
       "            min_impurity_decrease=0.0, min_impurity_split=None,\n",
       "  ...    pre_dispatch='2*n_jobs', refit=True, return_train_score=False,\n",
       "       scoring=None, verbose=0))],\n",
       "         flatten_transform=None, n_jobs=None, voting='hard', weights=None)"
      ]
     },
     "execution_count": 139,
     "metadata": {},
     "output_type": "execute_result"
    }
   ],
   "source": [
    "rf_voting_clf_hard.fit(A_train,b_train)"
   ]
  },
  {
   "cell_type": "code",
   "execution_count": 140,
   "metadata": {},
   "outputs": [],
   "source": [
    "rf_voting_clf_hard_pred=rf_voting_clf_hard.predict(A_test)"
   ]
  },
  {
   "cell_type": "code",
   "execution_count": 141,
   "metadata": {},
   "outputs": [],
   "source": [
    "cm=confusion_matrix(b_test,rf_voting_clf_hard_pred)"
   ]
  },
  {
   "cell_type": "code",
   "execution_count": 142,
   "metadata": {},
   "outputs": [
    {
     "data": {
      "text/plain": [
       "array([[595,  20,   0,   0,   0,   0,   1,   0,   0,   0],\n",
       "       [ 11, 127,   0,   0,   0,   0,   1,   0,   0,   0],\n",
       "       [  0,   1,   9,   0,   0,   0,   0,   0,   0,   0],\n",
       "       [  0,   0,   0, 125,   0,   0,   0,   4,   0,   1],\n",
       "       [  0,   0,   0,   0, 158,   0,   0,   0,   0,   0],\n",
       "       [  0,   0,   0,   0,   0, 347,  11,   0,   0,   0],\n",
       "       [  0,   0,   0,   0,   0,   3, 632,   0,   0,   0],\n",
       "       [  0,   0,   0,   6,   0,   0,   0, 451,   0,   4],\n",
       "       [  0,   0,   0,   0,   0,   0,   0,   0, 412,   0],\n",
       "       [  0,   0,   0,   6,   0,   0,   0,   2,   0, 567]], dtype=int64)"
      ]
     },
     "execution_count": 142,
     "metadata": {},
     "output_type": "execute_result"
    }
   ],
   "source": [
    "cm"
   ]
  },
  {
   "cell_type": "code",
   "execution_count": 143,
   "metadata": {},
   "outputs": [
    {
     "name": "stdout",
     "output_type": "stream",
     "text": [
      "Accuracy:  0.9796794504865484\n"
     ]
    }
   ],
   "source": [
    "\n",
    "acc=accuracy_score(b_test,rf_voting_clf_hard_pred)\n",
    "print(\"Accuracy: \",acc)\n",
    "voting_arr.append(accuracy_score(b_test, knn_voting_clf_hard_pred))"
   ]
  },
  {
   "cell_type": "markdown",
   "metadata": {},
   "source": [
    "In case of Random forest, results are also same."
   ]
  },
  {
   "cell_type": "code",
   "execution_count": 144,
   "metadata": {},
   "outputs": [],
   "source": [
    "rf_voting_clf_soft=VotingClassifier(estimators=[('rf',rf_clf)],voting='soft')"
   ]
  },
  {
   "cell_type": "code",
   "execution_count": 145,
   "metadata": {},
   "outputs": [
    {
     "data": {
      "text/plain": [
       "VotingClassifier(estimators=[('rf', GridSearchCV(cv=5, error_score='raise-deprecating',\n",
       "       estimator=RandomForestClassifier(bootstrap=True, class_weight=None, criterion='gini',\n",
       "            max_depth=None, max_features='auto', max_leaf_nodes=None,\n",
       "            min_impurity_decrease=0.0, min_impurity_split=None,\n",
       "  ...    pre_dispatch='2*n_jobs', refit=True, return_train_score=False,\n",
       "       scoring=None, verbose=0))],\n",
       "         flatten_transform=None, n_jobs=None, voting='soft', weights=None)"
      ]
     },
     "execution_count": 145,
     "metadata": {},
     "output_type": "execute_result"
    }
   ],
   "source": [
    "rf_voting_clf_soft.fit(A_train,b_train)"
   ]
  },
  {
   "cell_type": "code",
   "execution_count": 146,
   "metadata": {},
   "outputs": [],
   "source": [
    "rf_voting_clf_soft_pred=rf_voting_clf_soft.predict(A_test)"
   ]
  },
  {
   "cell_type": "code",
   "execution_count": 147,
   "metadata": {},
   "outputs": [
    {
     "data": {
      "text/plain": [
       "array([[596,  19,   0,   0,   0,   0,   1,   0,   0,   0],\n",
       "       [ 10, 128,   0,   0,   0,   0,   1,   0,   0,   0],\n",
       "       [  0,   1,   9,   0,   0,   0,   0,   0,   0,   0],\n",
       "       [  0,   0,   0, 125,   0,   0,   0,   3,   0,   2],\n",
       "       [  0,   0,   0,   0, 158,   0,   0,   0,   0,   0],\n",
       "       [  0,   0,   0,   0,   0, 349,   9,   0,   0,   0],\n",
       "       [  0,   0,   0,   0,   0,   4, 631,   0,   0,   0],\n",
       "       [  0,   0,   0,   7,   0,   0,   0, 450,   0,   4],\n",
       "       [  0,   0,   0,   0,   0,   0,   0,   0, 412,   0],\n",
       "       [  0,   0,   0,   7,   0,   0,   0,   0,   0, 568]], dtype=int64)"
      ]
     },
     "execution_count": 147,
     "metadata": {},
     "output_type": "execute_result"
    }
   ],
   "source": [
    "cm=confusion_matrix(b_test,rf_voting_clf_soft_pred)\n",
    "cm"
   ]
  },
  {
   "cell_type": "code",
   "execution_count": 148,
   "metadata": {},
   "outputs": [
    {
     "name": "stdout",
     "output_type": "stream",
     "text": [
      "Accuracy:  0.9805380652547224\n"
     ]
    }
   ],
   "source": [
    "acc=accuracy_score(b_test,rf_voting_clf_soft_pred)\n",
    "print(\"Accuracy: \",acc)\n",
    "voting_arr.append(accuracy_score(b_test, rf_voting_clf_soft_pred))"
   ]
  },
  {
   "cell_type": "markdown",
   "metadata": {},
   "source": [
    "# VOTING RESULT"
   ]
  },
  {
   "cell_type": "code",
   "execution_count": 149,
   "metadata": {},
   "outputs": [],
   "source": [
    "Voting_list=['SVM HARD','SVM SOFT','KNN HARD','KNN SOFT','RF HARD','RF SOFT']"
   ]
  },
  {
   "cell_type": "code",
   "execution_count": 150,
   "metadata": {},
   "outputs": [],
   "source": [
    "voting_df=pd.DataFrame(voting_arr,index=Voting_list)"
   ]
  },
  {
   "cell_type": "code",
   "execution_count": 151,
   "metadata": {},
   "outputs": [
    {
     "data": {
      "text/html": [
       "<div>\n",
       "<style scoped>\n",
       "    .dataframe tbody tr th:only-of-type {\n",
       "        vertical-align: middle;\n",
       "    }\n",
       "\n",
       "    .dataframe tbody tr th {\n",
       "        vertical-align: top;\n",
       "    }\n",
       "\n",
       "    .dataframe thead th {\n",
       "        text-align: right;\n",
       "    }\n",
       "</style>\n",
       "<table border=\"1\" class=\"dataframe\">\n",
       "  <thead>\n",
       "    <tr style=\"text-align: right;\">\n",
       "      <th></th>\n",
       "      <th>0</th>\n",
       "    </tr>\n",
       "  </thead>\n",
       "  <tbody>\n",
       "    <tr>\n",
       "      <th>RF SOFT</th>\n",
       "      <td>0.980538</td>\n",
       "    </tr>\n",
       "    <tr>\n",
       "      <th>KNN HARD</th>\n",
       "      <td>0.932169</td>\n",
       "    </tr>\n",
       "    <tr>\n",
       "      <th>KNN SOFT</th>\n",
       "      <td>0.932169</td>\n",
       "    </tr>\n",
       "    <tr>\n",
       "      <th>RF HARD</th>\n",
       "      <td>0.932169</td>\n",
       "    </tr>\n",
       "    <tr>\n",
       "      <th>SVM SOFT</th>\n",
       "      <td>0.726960</td>\n",
       "    </tr>\n",
       "    <tr>\n",
       "      <th>SVM HARD</th>\n",
       "      <td>0.549800</td>\n",
       "    </tr>\n",
       "  </tbody>\n",
       "</table>\n",
       "</div>"
      ],
      "text/plain": [
       "                 0\n",
       "RF SOFT   0.980538\n",
       "KNN HARD  0.932169\n",
       "KNN SOFT  0.932169\n",
       "RF HARD   0.932169\n",
       "SVM SOFT  0.726960\n",
       "SVM HARD  0.549800"
      ]
     },
     "execution_count": 151,
     "metadata": {},
     "output_type": "execute_result"
    }
   ],
   "source": [
    "voting_df.sort_values(by=0, ascending=False)"
   ]
  },
  {
   "cell_type": "markdown",
   "metadata": {},
   "source": [
    "We can see that Random forest and KNN does not much difference with this technique whereas in case of SVM, soft voting shows a rapid increase in accuracy and increases upto 78%."
   ]
  },
  {
   "cell_type": "markdown",
   "metadata": {},
   "source": [
    "# CONCLUSION"
   ]
  },
  {
   "cell_type": "markdown",
   "metadata": {},
   "source": [
    "We can conclude that linear regression is best suited for our regression model based on this dataset.Cross validation also does not effect the results. Rather than increase in accuracy, it get decreased by few percents.\n",
    "\n",
    "In case of our classifier models, Decision tree, random forest and KNN performs very well. All these models have accuracy greater than 90%. SVM and Logistic regression does not perform well on the datasets as compare to other models. Cross Validation, Grid SearchCV and voting classifier does not affect the output of Random forest and KNN that much but in case of SVM, Soft voting increased the accuracy by 20%. We can conclude that we can use Decision tree, Random Forest or KNN for our future predictions."
   ]
  },
  {
   "cell_type": "code",
   "execution_count": null,
   "metadata": {},
   "outputs": [],
   "source": []
  }
 ],
 "metadata": {
  "kernelspec": {
   "display_name": "Python 3 (ipykernel)",
   "language": "python",
   "name": "python3"
  },
  "language_info": {
   "codemirror_mode": {
    "name": "ipython",
    "version": 3
   },
   "file_extension": ".py",
   "mimetype": "text/x-python",
   "name": "python",
   "nbconvert_exporter": "python",
   "pygments_lexer": "ipython3",
   "version": "3.9.12"
  }
 },
 "nbformat": 4,
 "nbformat_minor": 2
}
